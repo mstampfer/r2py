{
 "metadata": {
  "name": "",
  "signature": "sha256:1dedf322e4c6daf84c0fb7e795329827efb674963a516578713619486a9578b9"
 },
 "nbformat": 3,
 "nbformat_minor": 0,
 "worksheets": [
  {
   "cells": [
    {
     "cell_type": "code",
     "collapsed": false,
     "input": [
      "import numpy as np\n",
      "import pandas as pd\n",
      "from pandas import Series\n",
      "from pandas import DataFrame\n",
      "import matplotlib.pyplot as plt\n",
      "import sys\n",
      "from pymongo import MongoClient\n",
      "from pymongo.errors import ConnectionFailure\n",
      "from datetime import datetime"
     ],
     "language": "python",
     "metadata": {},
     "outputs": [],
     "prompt_number": 27
    },
    {
     "cell_type": "raw",
     "metadata": {},
     "source": [
      "#Generates the 100 random variates, finds their absolute values, and then #finds the mean of the absolute values\n",
      "> mean(abs(rnorm(100)))"
     ]
    },
    {
     "cell_type": "code",
     "collapsed": false,
     "input": [
      "Series(np.random.normal(0,1,100)).abs().mean()"
     ],
     "language": "python",
     "metadata": {},
     "outputs": [
      {
       "metadata": {},
       "output_type": "pyout",
       "prompt_number": 56,
       "text": [
        "0.78327385409511763"
       ]
      }
     ],
     "prompt_number": 56
    },
    {
     "cell_type": "code",
     "collapsed": false,
     "input": [
      "np.mean(np.abs(np.random.normal(0,1,100)))"
     ],
     "language": "python",
     "metadata": {},
     "outputs": [
      {
       "metadata": {},
       "output_type": "pyout",
       "prompt_number": 57,
       "text": [
        "0.73954395418484453"
       ]
      }
     ],
     "prompt_number": 57
    },
    {
     "cell_type": "raw",
     "metadata": {},
     "source": [
      "#Run script on the filesystem\n",
      "> source(\"z.R\")"
     ]
    },
    {
     "cell_type": "code",
     "collapsed": false,
     "input": [
      "%run /Users/marcel/work/r2py/z.py"
     ],
     "language": "python",
     "metadata": {},
     "outputs": [
      {
       "output_type": "stream",
       "stream": "stdout",
       "text": [
        "Hello World!\n"
       ]
      }
     ],
     "prompt_number": 58
    },
    {
     "cell_type": "raw",
     "metadata": {},
     "source": [
      "# set graphical output file\n",
      "pdf(\"xh.pdf\")  \n",
      "# generate 100 N(0,1) variates and plot their histogram\n",
      "hist(rnorm(100))  \n",
      "# close the graphical output file\n",
      "dev.off()  "
     ]
    },
    {
     "cell_type": "code",
     "collapsed": false,
     "input": [
      "df = Series(np.random.normal(0,1,100))\n",
      "df.hist(bins=50)\n",
      "df.plot(kind='kde', style='k--')"
     ],
     "language": "python",
     "metadata": {},
     "outputs": [
      {
       "metadata": {},
       "output_type": "pyout",
       "prompt_number": 102,
       "text": [
        "<matplotlib.axes._subplots.AxesSubplot at 0x10d6741d0>"
       ]
      }
     ],
     "prompt_number": 102
    },
    {
     "cell_type": "code",
     "collapsed": false,
     "input": [
      "fig = plt.figure()\n",
      "ax = fig.add_subplot(1,1,1)\n",
      "ax.hist(df, bins=50)\n",
      "plt.savefig('xh.pdf')"
     ],
     "language": "python",
     "metadata": {},
     "outputs": [],
     "prompt_number": 60
    },
    {
     "cell_type": "raw",
     "metadata": {},
     "source": [
      "a simple data set (in R parlance, a vector ) consisting of the numbers 1, 2, and 4, and name it x:\n",
      "> x <- c(1,2,4)     "
     ]
    },
    {
     "cell_type": "code",
     "collapsed": false,
     "input": [
      "x=[1,2,4]\n",
      "print(x)\n",
      "x[2]"
     ],
     "language": "python",
     "metadata": {},
     "outputs": [
      {
       "output_type": "stream",
       "stream": "stdout",
       "text": [
        "[1, 2, 4]\n"
       ]
      },
      {
       "metadata": {},
       "output_type": "pyout",
       "prompt_number": 61,
       "text": [
        "4"
       ]
      }
     ],
     "prompt_number": 61
    },
    {
     "cell_type": "raw",
     "metadata": {},
     "source": [
      "concatonate x's\n",
      "q <- c(x,x,8)"
     ]
    },
    {
     "cell_type": "code",
     "collapsed": false,
     "input": [
      "q=x+x+[8]\n",
      "q"
     ],
     "language": "python",
     "metadata": {},
     "outputs": [
      {
       "metadata": {},
       "output_type": "pyout",
       "prompt_number": 62,
       "text": [
        "[1, 2, 4, 1, 2, 4, 8]"
       ]
      }
     ],
     "prompt_number": 62
    },
    {
     "cell_type": "raw",
     "metadata": {},
     "source": [
      "> x <- c(1,2,4)\n",
      "> x[2:3]\n",
      "[1] 2 4"
     ]
    },
    {
     "cell_type": "code",
     "collapsed": false,
     "input": [
      "x=[1,2,4]\n",
      "x[1:]"
     ],
     "language": "python",
     "metadata": {},
     "outputs": [
      {
       "metadata": {},
       "output_type": "pyout",
       "prompt_number": 63,
       "text": [
        "[2, 4]"
       ]
      }
     ],
     "prompt_number": 63
    },
    {
     "cell_type": "raw",
     "metadata": {},
     "source": [
      "> mean(x)\n",
      "[1] 2.333333\n",
      "\n",
      "# prints sample standard deviation\n",
      "> sd(x)\n",
      "[1] 1.527525"
     ]
    },
    {
     "cell_type": "code",
     "collapsed": false,
     "input": [
      "print(np.mean(x))\n",
      "\n",
      "#prints population standard deviation\n",
      "np.std(x)\n",
      "\n",
      "#prints sample standard deviation\n",
      "avg = np.mean(x)\n",
      "sz = len(x)-1\n",
      "np.sqrt(sum([(e-avg)**2/sz for e in x]))"
     ],
     "language": "python",
     "metadata": {},
     "outputs": [
      {
       "output_type": "stream",
       "stream": "stdout",
       "text": [
        "2.33333333333\n"
       ]
      },
      {
       "metadata": {},
       "output_type": "pyout",
       "prompt_number": 64,
       "text": [
        "1.5275252316519465"
       ]
      }
     ],
     "prompt_number": 64
    },
    {
     "cell_type": "raw",
     "metadata": {},
     "source": [
      "# counts the number of odd integers in x\n",
      "oddcount <- function(x)  {\n",
      "   k <- 0  # assign 0 to k\n",
      "   for (n in x)  {\n",
      "      if (n %% 2 == 1) k <- k+1  # %% is the modulo operator\n",
      "   }\n",
      "   return(k)\n",
      "}\n",
      "> oddcount(c(1,3,5))\n",
      "[1] 3\n",
      "> oddcount(c(1,2,3,7,9))\n",
      "[1] 4\n"
     ]
    },
    {
     "cell_type": "code",
     "collapsed": false,
     "input": [
      "# counts the number of odd integers in x\n",
      "def oddcount(l):\n",
      "    print(sum([1 for e in l if e%2==1]))\n",
      "    \n",
      "oddcount([1,3,5])\n",
      "oddcount([1,2,3,7,9])"
     ],
     "language": "python",
     "metadata": {},
     "outputs": [
      {
       "output_type": "stream",
       "stream": "stdout",
       "text": [
        "3\n",
        "4\n"
       ]
      }
     ],
     "prompt_number": 65
    },
    {
     "cell_type": "raw",
     "metadata": {},
     "source": [
      ">m\n",
      "      [,1] [,2]\n",
      "[1,]    1    2\n",
      "[2,]    3    4\n",
      "> m + 10:13\n",
      "      [,1] [,2]\n",
      "[1,]   11   14\n",
      "[2,]   14   17"
     ]
    },
    {
     "cell_type": "code",
     "collapsed": false,
     "input": [
      "m=DataFrame(np.arange(1,5).reshape((2, 2)), index=[1, 2], columns=[1,2])\n",
      "n=DataFrame(np.arange(10,14).reshape((2,2)), index=[1, 2], columns=[1,2])\n",
      "m+n.T"
     ],
     "language": "python",
     "metadata": {},
     "outputs": [
      {
       "html": [
        "<div style=\"max-height:1000px;max-width:1500px;overflow:auto;\">\n",
        "<table border=\"1\" class=\"dataframe\">\n",
        "  <thead>\n",
        "    <tr style=\"text-align: right;\">\n",
        "      <th></th>\n",
        "      <th>1</th>\n",
        "      <th>2</th>\n",
        "    </tr>\n",
        "  </thead>\n",
        "  <tbody>\n",
        "    <tr>\n",
        "      <th>1</th>\n",
        "      <td>11</td>\n",
        "      <td>14</td>\n",
        "    </tr>\n",
        "    <tr>\n",
        "      <th>2</th>\n",
        "      <td>14</td>\n",
        "      <td>17</td>\n",
        "    </tr>\n",
        "  </tbody>\n",
        "</table>\n",
        "</div>"
       ],
       "metadata": {},
       "output_type": "pyout",
       "prompt_number": 66,
       "text": [
        "    1   2\n",
        "1  11  14\n",
        "2  14  17"
       ]
      }
     ],
     "prompt_number": 66
    },
    {
     "cell_type": "raw",
     "metadata": {},
     "source": [
      "> x <- c(1,2,4)\n",
      "> x * c(5,0,-1)   \n",
      "[1] 5 0 -4\n",
      "> x / c(5,4,-1)\n",
      "[1]  0.2  0.5 -4.0\n",
      "> x %% c(5,4,-1)\n",
      "[1] 1 2 0"
     ]
    },
    {
     "cell_type": "code",
     "collapsed": false,
     "input": [
      "x=Series([1,2,4])\n",
      "print(x*Series([5,0,-1]))\n",
      "print(x/Series([5,4,-1]))\n",
      "print(x%Series([5,4,-1]))"
     ],
     "language": "python",
     "metadata": {},
     "outputs": [
      {
       "output_type": "stream",
       "stream": "stdout",
       "text": [
        "0    5\n",
        "1    0\n",
        "2   -4\n",
        "dtype: int64\n",
        "0    0.2\n",
        "1    0.5\n",
        "2   -4.0\n",
        "dtype: float64\n",
        "0    1\n",
        "1    2\n",
        "2    0\n",
        "dtype: int64\n"
       ]
      }
     ],
     "prompt_number": 67
    },
    {
     "cell_type": "raw",
     "metadata": {},
     "source": [
      "> y <- c(1.2,3.9,0.4,0.12)\n",
      "> y[c(1,3)]  # extract elements 1 and 3 of y\n",
      "[1] 1.2 0.4\n",
      "> y[2:3]\n",
      "[1] 3.9 0.4\n",
      "> v <- 3:4\n",
      "> y[v]\n",
      "[1] 0.40 0.12"
     ]
    },
    {
     "cell_type": "code",
     "collapsed": false,
     "input": [
      "obj = Series([1.2,3.9,0.4,0.12])\n",
      "print(obj[[0,2]])\n",
      "print(obj[1:3])\n",
      "print(obj[np.arange(2,4)])"
     ],
     "language": "python",
     "metadata": {},
     "outputs": [
      {
       "output_type": "stream",
       "stream": "stdout",
       "text": [
        "0    1.2\n",
        "2    0.4\n",
        "dtype: float64\n",
        "1    3.9\n",
        "2    0.4\n",
        "dtype: float64\n",
        "2    0.40\n",
        "3    0.12\n",
        "dtype: float64\n"
       ]
      }
     ],
     "prompt_number": 68
    },
    {
     "cell_type": "raw",
     "metadata": {},
     "source": [
      "Note that duplicates are allowed.\n",
      "> x <- c(4,2,17,5) \n",
      "> y <- x[c(1,1,3)] \n",
      ">y\n",
      "[1] 4 4 17"
     ]
    },
    {
     "cell_type": "code",
     "collapsed": false,
     "input": [
      "x=Series([4,2,17,5])\n",
      "y=x[[0,0,2]]\n",
      "y"
     ],
     "language": "python",
     "metadata": {},
     "outputs": [
      {
       "metadata": {},
       "output_type": "pyout",
       "prompt_number": 72,
       "text": [
        "0     4\n",
        "0     4\n",
        "2    17\n",
        "dtype: int64"
       ]
      }
     ],
     "prompt_number": 72
    },
    {
     "cell_type": "raw",
     "metadata": {},
     "source": [
      "> 5:8\n",
      "[1] 5 6 7 8\n",
      "> 5:1\n",
      "[1] 5 4 3 2 1"
     ]
    },
    {
     "cell_type": "code",
     "collapsed": false,
     "input": [
      "range(5,9)"
     ],
     "language": "python",
     "metadata": {},
     "outputs": [
      {
       "metadata": {},
       "output_type": "pyout",
       "prompt_number": 78,
       "text": [
        "[5, 6, 7, 8]"
       ]
      }
     ],
     "prompt_number": 78
    },
    {
     "cell_type": "code",
     "collapsed": false,
     "input": [
      "range(5,0,-1)"
     ],
     "language": "python",
     "metadata": {},
     "outputs": [
      {
       "metadata": {},
       "output_type": "pyout",
       "prompt_number": 79,
       "text": [
        "[5, 4, 3, 2, 1]"
       ]
      }
     ],
     "prompt_number": 79
    },
    {
     "cell_type": "raw",
     "metadata": {},
     "source": [
      "> seq(from=12,to=30,by=3\n",
      "[1] 12 15 18 21 24 27 30\n",
      "seq(from=1.1,to=2,length=10)\n",
      "[1] 1.1 1.2 1.3 1.4 1.5 1.6 1.7 1.8 1.9 2.0"
     ]
    },
    {
     "cell_type": "code",
     "collapsed": false,
     "input": [
      "range(12,31,3)"
     ],
     "language": "python",
     "metadata": {},
     "outputs": [
      {
       "metadata": {},
       "output_type": "pyout",
       "prompt_number": 80,
       "text": [
        "[12, 15, 18, 21, 24, 27, 30]"
       ]
      }
     ],
     "prompt_number": 80
    },
    {
     "cell_type": "raw",
     "metadata": {},
     "source": [
      "seq(from=1.1,to=2,length=10)\n",
      "[1] 1.1 1.2 1.3 1.4 1.5 1.6 1.7 1.8 1.9 2.0"
     ]
    },
    {
     "cell_type": "code",
     "collapsed": false,
     "input": [
      "np.linspace(1.1,2.0,10)"
     ],
     "language": "python",
     "metadata": {},
     "outputs": [
      {
       "metadata": {},
       "output_type": "pyout",
       "prompt_number": 101,
       "text": [
        "array([ 1.1,  1.2,  1.3,  1.4,  1.5,  1.6,  1.7,  1.8,  1.9,  2. ])"
       ]
      }
     ],
     "prompt_number": 101
    },
    {
     "cell_type": "code",
     "collapsed": false,
     "input": [
      "try:\n",
      "    c = MongoClient()\n",
      "    c.test_database\n",
      "    print \"Connected successfully\" \n",
      "    print(c)\n",
      "except ConnectionFailure, e:\n",
      "    sys.stderr.write(\"Could not connect to MongoDB: %s\" % e)\n",
      "    sys.exit(1)\n",
      "    "
     ],
     "language": "python",
     "metadata": {},
     "outputs": [
      {
       "output_type": "stream",
       "stream": "stdout",
       "text": [
        "Connected successfully\n",
        "MongoClient('localhost', 27017)\n"
       ]
      }
     ],
     "prompt_number": 15
    },
    {
     "cell_type": "code",
     "collapsed": false,
     "input": [
      "# Get a Database handle to a database named \"book\" \n",
      "book = c[\"book\"]\n",
      "assert book.client == c"
     ],
     "language": "python",
     "metadata": {},
     "outputs": [],
     "prompt_number": 23
    },
    {
     "cell_type": "code",
     "collapsed": false,
     "input": [
      "user_doc = {\n",
      "\"username\" : \"janedoe\",\n",
      "\"firstname\" : \"Jane\",\n",
      "\"surname\" : \"Doe\",\n",
      "\"dateofbirth\" : datetime(1974, 4, 12), \n",
      "\"email\" : \"janedoe74@example.com\", \n",
      "\"score\" : 0\n",
      "}\n",
      "book.users.insert(user_doc)\n",
      "print \"Successfully inserted document: %s\" % user_doc\n"
     ],
     "language": "python",
     "metadata": {},
     "outputs": [
      {
       "output_type": "stream",
       "stream": "stdout",
       "text": [
        "Successfully inserted document: {'username': 'janedoe', 'surname': 'Doe', 'firstname': 'Jane', 'dateofbirth': datetime.datetime(1974, 4, 12, 0, 0), 'score': 0, '_id': ObjectId('5595c2e62626e3f110284a39'), 'email': 'janedoe74@example.com'}\n"
       ]
      }
     ],
     "prompt_number": 29
    },
    {
     "cell_type": "raw",
     "metadata": {},
     "source": [
      "> x <- rep(8,4)\n",
      ">x\n",
      "[1] 8 8 8 8\n",
      "> rep(c(5,12,13),3)\n",
      "[1] 51213 51213 51213 \n",
      "> rep(1:3,2)\n",
      "[1] 1 2 3 1 2 3"
     ]
    },
    {
     "cell_type": "code",
     "collapsed": false,
     "input": [
      "print([8]*4)\n",
      "print(5,12,13)*3\n",
      "print(range(1,4)*2)"
     ],
     "language": "python",
     "metadata": {},
     "outputs": [
      {
       "output_type": "stream",
       "stream": "stdout",
       "text": [
        "[8, 8, 8, 8]\n",
        "(5, 12, 13, 5, 12, 13, 5, 12, 13)\n",
        "[1, 2, 3, 1, 2, 3]\n"
       ]
      }
     ],
     "prompt_number": 32
    },
    {
     "cell_type": "raw",
     "metadata": {},
     "source": [
      "> x <- 1:10\n",
      "> any(x > 8)\n",
      "[1] TRUE\n",
      "> any(x > 88)\n",
      "[1] FALSE\n",
      "> all(x > 88)\n",
      "[1] FALSE\n",
      "> all(x > 0)\n",
      "[1] TRUE"
     ]
    },
    {
     "cell_type": "code",
     "collapsed": false,
     "input": [
      "x=range(1,11)\n",
      "print(any(True for e in x if e>8))\n",
      "print(any(True for e in x if e>88))\n",
      "print(len([1 for e in x if e>88]) == len(x))\n",
      "print(all(True for e in x if e>0))"
     ],
     "language": "python",
     "metadata": {},
     "outputs": [
      {
       "output_type": "stream",
       "stream": "stdout",
       "text": [
        "True\n",
        "False\n",
        "True\n",
        "True\n"
       ]
      }
     ],
     "prompt_number": 56
    },
    {
     "cell_type": "raw",
     "metadata": {},
     "source": [
      "# finding runs of consecutive 1s in vectors that consist just of 1s and 0s.\n",
      "findruns <- function(x,k) {\n",
      "   n <- length(x)\n",
      "   runs <- NULL\n",
      "   for (i in 1:(n-k+1)) {\n",
      "      if (all(x[i:(i+k-1)]==1)) runs <- c(runs,i) \n",
      "   }\n",
      "   return(runs)\n",
      "}\n",
      "> y <- c(1,0,0,1,1,1,0,1,1)\n",
      "> findruns(y,3)\n",
      "[1] 4\n",
      "> findruns(y,2)\n",
      "[1] 4 5 8\n",
      "> findruns(y,6)\n",
      "NULL"
     ]
    },
    {
     "cell_type": "code",
     "collapsed": false,
     "input": [
      "def findruns(x,k):\n",
      "    n=len(x)\n",
      "    runs = []\n",
      "    for i in range(n-k+1):\n",
      "        if (all(x[i:i+k]) == 1):\n",
      "            runs=runs+[i] \n",
      "    print runs\n",
      "    \n",
      "y = [1,0,0,1,1,1,0,1,1]\n",
      "findruns(y,3)\n",
      "findruns(y,2)\n",
      "findruns(y,6)"
     ],
     "language": "python",
     "metadata": {},
     "outputs": [
      {
       "output_type": "stream",
       "stream": "stdout",
       "text": [
        "[3]\n",
        "[3, 4, 7]\n",
        "[]\n"
       ]
      }
     ],
     "prompt_number": 230
    },
    {
     "cell_type": "code",
     "collapsed": false,
     "input": [
      "#find runs with no loops\n",
      "def findruns(x,k):\n",
      "    df=DataFrame(x, columns=['A'])\n",
      "    df['block'] = (df.A != df.A.shift(1)).astype(int).cumsum()\n",
      "    ones=df[df.A == 1]\n",
      "    ones['isOnesRun'] = ((ones.block == ones.block.shift(-k+1)))\n",
      "    print(ones[ones['isOnesRun']==True])\n",
      "    \n",
      "y = [1,0,0,1,1,1,0,1,1]\n",
      "findruns(y,3)\n",
      "findruns(y,2)\n",
      "findruns(y,6)"
     ],
     "language": "python",
     "metadata": {},
     "outputs": [
      {
       "output_type": "stream",
       "stream": "stdout",
       "text": [
        "   A  block isOnesRun\n",
        "3  1      3      True\n",
        "   A  block isOnesRun\n",
        "3  1      3      True\n",
        "4  1      3      True\n",
        "7  1      5      True\n",
        "Empty DataFrame\n",
        "Columns: [A, block, isOnesRun]\n",
        "Index: []"
       ]
      },
      {
       "output_type": "stream",
       "stream": "stdout",
       "text": [
        "\n"
       ]
      }
     ],
     "prompt_number": 231
    },
    {
     "cell_type": "raw",
     "metadata": {},
     "source": [
      "> x <- c(1,3,8,2,20) \n",
      "> x[x > 3] <- 0\n",
      ">x\n",
      "[1] 1 3 0 2 0"
     ]
    },
    {
     "cell_type": "code",
     "collapsed": false,
     "input": [
      "x = [1,3,8,2,20]\n",
      "[0 if e > 3 else e for e in x ]\n"
     ],
     "language": "python",
     "metadata": {},
     "outputs": [
      {
       "metadata": {},
       "output_type": "pyout",
       "prompt_number": 242,
       "text": [
        "[1, 3, 0, 2, 0]"
       ]
      }
     ],
     "prompt_number": 242
    },
    {
     "cell_type": "raw",
     "metadata": {},
     "source": [
      "> z <- c(5,2,-3,8)\n",
      "> which(z*z > 8)\n",
      "[1] 1 3 4"
     ]
    },
    {
     "cell_type": "code",
     "collapsed": false,
     "input": [
      "z = [5,2,-3,8]\n",
      "[z.index(e) for e in z if e**2 > 8]"
     ],
     "language": "python",
     "metadata": {},
     "outputs": [
      {
       "metadata": {},
       "output_type": "pyout",
       "prompt_number": 254,
       "text": [
        "[0, 2, 3]"
       ]
      }
     ],
     "prompt_number": 254
    },
    {
     "cell_type": "raw",
     "metadata": {},
     "source": [
      "using one vector, z, to determine indices to use in filtering another vector, y\n",
      "> z <- c(5,2,-3,8) \n",
      "> y <- c(1,2,30,5) \n",
      "> y[z*z > 8]\n",
      "[1] 1 30 5"
     ]
    },
    {
     "cell_type": "code",
     "collapsed": false,
     "input": [
      "z = Series([5,2,-3,8])\n",
      "y = Series([1,2,30,5])\n",
      "y[z**2 > 8].tolist()"
     ],
     "language": "python",
     "metadata": {},
     "outputs": [
      {
       "metadata": {},
       "output_type": "pyout",
       "prompt_number": 266,
       "text": [
        "[1, 30, 5]"
       ]
      }
     ],
     "prompt_number": 266
    },
    {
     "cell_type": "code",
     "collapsed": false,
     "input": [
      "> x <- c(6,1:3,NA,12) \n",
      ">x\n",
      "[1] 6 1 2 3 NA 12 \n",
      "> x[x > 5]\n",
      "[1]  6 NA 12\n",
      "> subset(x,x > 5)\n",
      "[1]  6 12"
     ],
     "language": "python",
     "metadata": {},
     "outputs": []
    },
    {
     "cell_type": "code",
     "collapsed": false,
     "input": [
      "x=Series([6] + range(1,4) + [None,12])\n",
      "x[x>5].astype(int).tolist()"
     ],
     "language": "python",
     "metadata": {},
     "outputs": [
      {
       "metadata": {},
       "output_type": "pyout",
       "prompt_number": 287,
       "text": [
        "[6, 12]"
       ]
      }
     ],
     "prompt_number": 287
    },
    {
     "cell_type": "raw",
     "metadata": {},
     "source": [
      "> z <- c(5,2,-3,8)\n",
      "> which(z*z > 8)\n",
      "[1] 1 3 4"
     ]
    },
    {
     "cell_type": "code",
     "collapsed": false,
     "input": [
      "z=[5,2,-3,8]\n",
      "[z.index(e) for e in z if e**2>8]"
     ],
     "language": "python",
     "metadata": {},
     "outputs": [
      {
       "metadata": {},
       "output_type": "pyout",
       "prompt_number": 291,
       "text": [
        "[0, 2, 3]"
       ]
      }
     ],
     "prompt_number": 291
    },
    {
     "cell_type": "code",
     "collapsed": false,
     "input": [
      "#find the first 1 value within a vector x\n",
      "first1 <- function(x) {\n",
      "                for (i in 1:length(x)) {\n",
      "                   if (x[i] == 1) break  # break out of loop\n",
      "                }\n",
      "return(i) }\n",
      "#or\n",
      "first1a <- function(x) return(which(x == 1)[1])"
     ],
     "language": "python",
     "metadata": {},
     "outputs": []
    },
    {
     "cell_type": "code",
     "collapsed": false,
     "input": [
      "x = [0,2,3,4,1,5,6]\n",
      "[x.index(e) for e in x if e == 1][0]"
     ],
     "language": "python",
     "metadata": {},
     "outputs": [
      {
       "metadata": {},
       "output_type": "pyout",
       "prompt_number": 292,
       "text": [
        "4"
       ]
      }
     ],
     "prompt_number": 292
    },
    {
     "cell_type": "code",
     "collapsed": false,
     "input": [
      "#produce a vector in which there is a 5 wherever x is even \n",
      "# or a 12 wherever x is odd.\n",
      "> x <- 1:10\n",
      "> y <- ifelse(x %% 2 == 0,5,12) # %% is the mod operator \n",
      ">y\n",
      "[1]12 5 12 5 12 5 12 5 12 5"
     ],
     "language": "python",
     "metadata": {},
     "outputs": []
    },
    {
     "cell_type": "code",
     "collapsed": false,
     "input": [
      "x=range(1,11)\n",
      "[5 if e%2==0 else 12 for e in x]"
     ],
     "language": "python",
     "metadata": {},
     "outputs": [
      {
       "metadata": {},
       "output_type": "pyout",
       "prompt_number": 297,
       "text": [
        "[12, 5, 12, 5, 12, 5, 12, 5, 12, 5]"
       ]
      }
     ],
     "prompt_number": 297
    },
    {
     "cell_type": "code",
     "collapsed": false,
     "input": [
      "# findud() converts vector v to 1s, 0s, representing an element\n",
      "# increasing or not, relative to the previous one; output length is 1\n",
      "# less than input\n",
      "findud <- function(v) :\n",
      "   vud <- v[-1] - v[-length(v)] \n",
      "   return(ifelse(vud > 0,1,-1))  \n",
      "}\n",
      "\n",
      "udcorr <- function(x,y):\n",
      "   ud <- lapply(list(x,y),findud)\n",
      "   return(nd.mean(ud[[1]] == ud[[2]]))\n",
      "}\n",
      "\n",
      ">x\n",
      "[1] 5 1 2 1 3 3 6 0 1 15 16 8 88\n",
      ">y\n",
      "[1] 4 2 3 23 6 10 11 12 6 3 2\n",
      "> udcorr(x,y)\n",
      "[1] 0.4"
     ],
     "language": "python",
     "metadata": {},
     "outputs": [
      {
       "ename": "SyntaxError",
       "evalue": "invalid syntax (<ipython-input-330-4c69dea29940>, line 4)",
       "output_type": "pyerr",
       "traceback": [
        "\u001b[0;36m  File \u001b[0;32m\"<ipython-input-330-4c69dea29940>\"\u001b[0;36m, line \u001b[0;32m4\u001b[0m\n\u001b[0;31m    findud <- function(v) :\u001b[0m\n\u001b[0m                          ^\u001b[0m\n\u001b[0;31mSyntaxError\u001b[0m\u001b[0;31m:\u001b[0m invalid syntax\n"
       ]
      }
     ],
     "prompt_number": 330
    },
    {
     "cell_type": "code",
     "collapsed": false,
     "input": [
      "def findud(df):\n",
      "    v=np.where(df.shift(1) < df,1,0)\n",
      "    return DataFrame(v[1:])\n",
      "\n",
      "f = lambda x: x[0] == x[1]\n",
      "\n",
      "def udcorr(x,y):\n",
      "    v = DataFrame({'X':x,'Y':y})\n",
      "    df = findud(v)\n",
      "    print(np.mean(df.apply(f, axis=1)))\n",
      "\n",
      "x = [5,12,13,3 ,6,0 ,1 ,15,16,8,88]\n",
      "y = [4,2 ,3 ,23,6,10,11,12,6 ,3,2]\n",
      "udcorr(x,y)\n"
     ],
     "language": "python",
     "metadata": {},
     "outputs": [
      {
       "output_type": "stream",
       "stream": "stdout",
       "text": [
        "0.4\n"
       ]
      }
     ],
     "prompt_number": 368
    },
    {
     "cell_type": "code",
     "collapsed": false,
     "input": [],
     "language": "python",
     "metadata": {},
     "outputs": [],
     "prompt_number": 322
    },
    {
     "cell_type": "code",
     "collapsed": false,
     "input": [],
     "language": "python",
     "metadata": {},
     "outputs": []
    }
   ],
   "metadata": {}
  }
 ]
}