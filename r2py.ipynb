{
 "metadata": {
  "name": "",
  "signature": "sha256:f5f92755097e64de70b1d18e8f213e9d905cc4a16556483e136a18f179e15c12"
 },
 "nbformat": 3,
 "nbformat_minor": 0,
 "worksheets": [
  {
   "cells": [
    {
     "cell_type": "code",
     "collapsed": false,
     "input": [
      "import numpy as np\n",
      "import pandas as pd\n",
      "from pandas import Series\n",
      "from pandas import DataFrame\n",
      "import matplotlib.pyplot as plt\n",
      "import sys\n",
      "from pymongo import MongoClient\n",
      "from pymongo.errors import ConnectionFailure\n",
      "from datetime import datetime\n",
      "import csv"
     ],
     "language": "python",
     "metadata": {},
     "outputs": [],
     "prompt_number": 4
    },
    {
     "cell_type": "raw",
     "metadata": {},
     "source": [
      "#Generates the 100 random variates, finds their absolute values, and then #finds the mean of the absolute values\n",
      "> mean(abs(rnorm(100)))"
     ]
    },
    {
     "cell_type": "code",
     "collapsed": false,
     "input": [
      "Series(np.random.normal(0,1,100)).abs().mean()"
     ],
     "language": "python",
     "metadata": {},
     "outputs": [
      {
       "metadata": {},
       "output_type": "pyout",
       "prompt_number": 5,
       "text": [
        "0.74293742537599616"
       ]
      }
     ],
     "prompt_number": 5
    },
    {
     "cell_type": "code",
     "collapsed": false,
     "input": [
      "np.mean(np.abs(np.random.normal(0,1,100)))"
     ],
     "language": "python",
     "metadata": {},
     "outputs": [
      {
       "metadata": {},
       "output_type": "pyout",
       "prompt_number": 6,
       "text": [
        "0.75178341052234177"
       ]
      }
     ],
     "prompt_number": 6
    },
    {
     "cell_type": "raw",
     "metadata": {},
     "source": [
      "#Run script on the filesystem\n",
      "> source(\"z.R\")"
     ]
    },
    {
     "cell_type": "code",
     "collapsed": false,
     "input": [
      "%run /Users/marcel/work/r2py/z.py"
     ],
     "language": "python",
     "metadata": {},
     "outputs": [
      {
       "output_type": "stream",
       "stream": "stdout",
       "text": [
        "Hello World!\n"
       ]
      }
     ],
     "prompt_number": 7
    },
    {
     "cell_type": "raw",
     "metadata": {},
     "source": [
      "# set graphical output file\n",
      "pdf(\"xh.pdf\")  \n",
      "# generate 100 N(0,1) variates and plot their histogram\n",
      "hist(rnorm(100))  \n",
      "# close the graphical output file\n",
      "dev.off()  "
     ]
    },
    {
     "cell_type": "code",
     "collapsed": false,
     "input": [
      "df = Series(np.random.normal(0,1,100))\n",
      "df.hist(bins=50)\n",
      "df.plot(kind='kde', style='k--')"
     ],
     "language": "python",
     "metadata": {},
     "outputs": [
      {
       "metadata": {},
       "output_type": "pyout",
       "prompt_number": 8,
       "text": [
        "<matplotlib.axes._subplots.AxesSubplot at 0x10b6d7a50>"
       ]
      },
      {
       "metadata": {},
       "output_type": "display_data",
       "png": "[encoded data removed]",
       "text": [
        "<matplotlib.figure.Figure at 0x10eab4890>"
       ]
      }
     ],
     "prompt_number": 8
    },
    {
     "cell_type": "code",
     "collapsed": false,
     "input": [
      "fig = plt.figure()\n",
      "ax = fig.add_subplot(1,1,1)\n",
      "ax.hist(df, bins=50)\n",
      "plt.savefig('xh.pdf')"
     ],
     "language": "python",
     "metadata": {},
     "outputs": [
      {
       "metadata": {},
       "output_type": "display_data",
       "png": "[encoded data removed]",
       "text": [
        "<matplotlib.figure.Figure at 0x10cd18490>"
       ]
      }
     ],
     "prompt_number": 9
    },
    {
     "cell_type": "raw",
     "metadata": {},
     "source": [
      "a simple data set (in R parlance, a vector ) consisting of the numbers 1, 2, and 4, and name it x:\n",
      "> x <- c(1,2,4)     "
     ]
    },
    {
     "cell_type": "code",
     "collapsed": false,
     "input": [
      "x=[1,2,4]\n",
      "print(x)\n",
      "x[2]"
     ],
     "language": "python",
     "metadata": {},
     "outputs": [
      {
       "output_type": "stream",
       "stream": "stdout",
       "text": [
        "[1, 2, 4]\n"
       ]
      },
      {
       "metadata": {},
       "output_type": "pyout",
       "prompt_number": 10,
       "text": [
        "4"
       ]
      }
     ],
     "prompt_number": 10
    },
    {
     "cell_type": "raw",
     "metadata": {},
     "source": [
      "concatonate x's\n",
      "q <- c(x,x,8)"
     ]
    },
    {
     "cell_type": "code",
     "collapsed": false,
     "input": [
      "q=x+x+[8]\n",
      "q"
     ],
     "language": "python",
     "metadata": {},
     "outputs": [
      {
       "metadata": {},
       "output_type": "pyout",
       "prompt_number": 11,
       "text": [
        "[1, 2, 4, 1, 2, 4, 8]"
       ]
      }
     ],
     "prompt_number": 11
    },
    {
     "cell_type": "raw",
     "metadata": {},
     "source": [
      "> x <- c(1,2,4)\n",
      "> x[2:3]\n",
      "[1] 2 4"
     ]
    },
    {
     "cell_type": "code",
     "collapsed": false,
     "input": [
      "x=[1,2,4]\n",
      "x[1:]"
     ],
     "language": "python",
     "metadata": {},
     "outputs": [
      {
       "metadata": {},
       "output_type": "pyout",
       "prompt_number": 12,
       "text": [
        "[2, 4]"
       ]
      }
     ],
     "prompt_number": 12
    },
    {
     "cell_type": "raw",
     "metadata": {},
     "source": [
      "> mean(x)\n",
      "[1] 2.333333\n",
      "\n",
      "# prints sample standard deviation\n",
      "> sd(x)\n",
      "[1] 1.527525"
     ]
    },
    {
     "cell_type": "code",
     "collapsed": false,
     "input": [
      "print(np.mean(x))\n",
      "\n",
      "#prints population standard deviation\n",
      "np.std(x)\n",
      "\n",
      "#prints sample standard deviation\n",
      "avg = np.mean(x)\n",
      "sz = len(x)-1\n",
      "np.sqrt(sum([(e-avg)**2/sz for e in x]))"
     ],
     "language": "python",
     "metadata": {},
     "outputs": [
      {
       "output_type": "stream",
       "stream": "stdout",
       "text": [
        "2.33333333333\n"
       ]
      },
      {
       "metadata": {},
       "output_type": "pyout",
       "prompt_number": 13,
       "text": [
        "1.5275252316519465"
       ]
      }
     ],
     "prompt_number": 13
    },
    {
     "cell_type": "raw",
     "metadata": {},
     "source": [
      "# counts the number of odd integers in x\n",
      "oddcount <- function(x)  {\n",
      "   k <- 0  # assign 0 to k\n",
      "   for (n in x)  {\n",
      "      if (n %% 2 == 1) k <- k+1  # %% is the modulo operator\n",
      "   }\n",
      "   return(k)\n",
      "}\n",
      "> oddcount(c(1,3,5))\n",
      "[1] 3\n",
      "> oddcount(c(1,2,3,7,9))\n",
      "[1] 4\n"
     ]
    },
    {
     "cell_type": "code",
     "collapsed": false,
     "input": [
      "# counts the number of odd integers in x\n",
      "def oddcount(l):\n",
      "    print(sum([1 for e in l if e%2==1]))\n",
      "    \n",
      "oddcount([1,3,5])\n",
      "oddcount([1,2,3,7,9])"
     ],
     "language": "python",
     "metadata": {},
     "outputs": [
      {
       "output_type": "stream",
       "stream": "stdout",
       "text": [
        "3\n",
        "4\n"
       ]
      }
     ],
     "prompt_number": 14
    },
    {
     "cell_type": "raw",
     "metadata": {},
     "source": [
      ">m\n",
      "      [,1] [,2]\n",
      "[1,]    1    2\n",
      "[2,]    3    4\n",
      "> m + 10:13\n",
      "      [,1] [,2]\n",
      "[1,]   11   14\n",
      "[2,]   14   17"
     ]
    },
    {
     "cell_type": "code",
     "collapsed": false,
     "input": [
      "m=DataFrame(np.arange(1,5).reshape((2, 2)), index=[1, 2], columns=[1,2])\n",
      "n=DataFrame(np.arange(10,14).reshape((2,2)), index=[1, 2], columns=[1,2])\n",
      "m+n.T"
     ],
     "language": "python",
     "metadata": {},
     "outputs": [
      {
       "html": [
        "<div style=\"max-height:1000px;max-width:1500px;overflow:auto;\">\n",
        "<table border=\"1\" class=\"dataframe\">\n",
        "  <thead>\n",
        "    <tr style=\"text-align: right;\">\n",
        "      <th></th>\n",
        "      <th>1</th>\n",
        "      <th>2</th>\n",
        "    </tr>\n",
        "  </thead>\n",
        "  <tbody>\n",
        "    <tr>\n",
        "      <th>1</th>\n",
        "      <td>11</td>\n",
        "      <td>14</td>\n",
        "    </tr>\n",
        "    <tr>\n",
        "      <th>2</th>\n",
        "      <td>14</td>\n",
        "      <td>17</td>\n",
        "    </tr>\n",
        "  </tbody>\n",
        "</table>\n",
        "</div>"
       ],
       "metadata": {},
       "output_type": "pyout",
       "prompt_number": 15,
       "text": [
        "    1   2\n",
        "1  11  14\n",
        "2  14  17"
       ]
      }
     ],
     "prompt_number": 15
    },
    {
     "cell_type": "raw",
     "metadata": {},
     "source": [
      "> x <- c(1,2,4)\n",
      "> x * c(5,0,-1)   \n",
      "[1] 5 0 -4\n",
      "> x / c(5,4,-1)\n",
      "[1]  0.2  0.5 -4.0\n",
      "> x %% c(5,4,-1)\n",
      "[1] 1 2 0"
     ]
    },
    {
     "cell_type": "code",
     "collapsed": false,
     "input": [
      "x=Series([1,2,4])\n",
      "print(x*Series([5,0,-1]))\n",
      "print(x/Series([5,4,-1]))\n",
      "print(x%Series([5,4,-1]))"
     ],
     "language": "python",
     "metadata": {},
     "outputs": [
      {
       "output_type": "stream",
       "stream": "stdout",
       "text": [
        "0    5\n",
        "1    0\n",
        "2   -4\n",
        "dtype: int64\n",
        "0    0.2\n",
        "1    0.5\n",
        "2   -4.0\n",
        "dtype: float64\n",
        "0    1\n",
        "1    2\n",
        "2    0\n",
        "dtype: int64\n"
       ]
      }
     ],
     "prompt_number": 16
    },
    {
     "cell_type": "raw",
     "metadata": {},
     "source": [
      "> y <- c(1.2,3.9,0.4,0.12)\n",
      "> y[c(1,3)]  # extract elements 1 and 3 of y\n",
      "[1] 1.2 0.4\n",
      "> y[2:3]\n",
      "[1] 3.9 0.4\n",
      "> v <- 3:4\n",
      "> y[v]\n",
      "[1] 0.40 0.12"
     ]
    },
    {
     "cell_type": "code",
     "collapsed": false,
     "input": [
      "obj = Series([1.2,3.9,0.4,0.12])\n",
      "print(obj[[0,2]])\n",
      "print(obj[1:3])\n",
      "print(obj[np.arange(2,4)])"
     ],
     "language": "python",
     "metadata": {},
     "outputs": [
      {
       "output_type": "stream",
       "stream": "stdout",
       "text": [
        "0    1.2\n",
        "2    0.4\n",
        "dtype: float64\n",
        "1    3.9\n",
        "2    0.4\n",
        "dtype: float64\n",
        "2    0.40\n",
        "3    0.12\n",
        "dtype: float64\n"
       ]
      }
     ],
     "prompt_number": 17
    },
    {
     "cell_type": "raw",
     "metadata": {},
     "source": [
      "Note that duplicates are allowed.\n",
      "> x <- c(4,2,17,5) \n",
      "> y <- x[c(1,1,3)] \n",
      ">y\n",
      "[1] 4 4 17"
     ]
    },
    {
     "cell_type": "code",
     "collapsed": false,
     "input": [
      "x=Series([4,2,17,5])\n",
      "y=x[[0,0,2]]\n",
      "y"
     ],
     "language": "python",
     "metadata": {},
     "outputs": [
      {
       "metadata": {},
       "output_type": "pyout",
       "prompt_number": 18,
       "text": [
        "0     4\n",
        "0     4\n",
        "2    17\n",
        "dtype: int64"
       ]
      }
     ],
     "prompt_number": 18
    },
    {
     "cell_type": "raw",
     "metadata": {},
     "source": [
      "> 5:8\n",
      "[1] 5 6 7 8\n",
      "> 5:1\n",
      "[1] 5 4 3 2 1"
     ]
    },
    {
     "cell_type": "code",
     "collapsed": false,
     "input": [
      "range(5,9)"
     ],
     "language": "python",
     "metadata": {},
     "outputs": [
      {
       "metadata": {},
       "output_type": "pyout",
       "prompt_number": 19,
       "text": [
        "[5, 6, 7, 8]"
       ]
      }
     ],
     "prompt_number": 19
    },
    {
     "cell_type": "code",
     "collapsed": false,
     "input": [
      "range(5,0,-1)"
     ],
     "language": "python",
     "metadata": {},
     "outputs": [
      {
       "metadata": {},
       "output_type": "pyout",
       "prompt_number": 20,
       "text": [
        "[5, 4, 3, 2, 1]"
       ]
      }
     ],
     "prompt_number": 20
    },
    {
     "cell_type": "raw",
     "metadata": {},
     "source": [
      "> seq(from=12,to=30,by=3\n",
      "[1] 12 15 18 21 24 27 30\n",
      "seq(from=1.1,to=2,length=10)\n",
      "[1] 1.1 1.2 1.3 1.4 1.5 1.6 1.7 1.8 1.9 2.0"
     ]
    },
    {
     "cell_type": "code",
     "collapsed": false,
     "input": [
      "range(12,31,3)"
     ],
     "language": "python",
     "metadata": {},
     "outputs": [
      {
       "metadata": {},
       "output_type": "pyout",
       "prompt_number": 21,
       "text": [
        "[12, 15, 18, 21, 24, 27, 30]"
       ]
      }
     ],
     "prompt_number": 21
    },
    {
     "cell_type": "raw",
     "metadata": {},
     "source": [
      "seq(from=1.1,to=2,length=10)\n",
      "[1] 1.1 1.2 1.3 1.4 1.5 1.6 1.7 1.8 1.9 2.0"
     ]
    },
    {
     "cell_type": "code",
     "collapsed": false,
     "input": [
      "np.linspace(1.1,2.0,10)"
     ],
     "language": "python",
     "metadata": {},
     "outputs": [
      {
       "metadata": {},
       "output_type": "pyout",
       "prompt_number": 22,
       "text": [
        "array([ 1.1,  1.2,  1.3,  1.4,  1.5,  1.6,  1.7,  1.8,  1.9,  2. ])"
       ]
      }
     ],
     "prompt_number": 22
    },
    {
     "cell_type": "code",
     "collapsed": false,
     "input": [
      "try:\n",
      "    c = MongoClient()\n",
      "    c.test_database\n",
      "    print \"Connected successfully\" \n",
      "    print(c)\n",
      "except ConnectionFailure, e:\n",
      "    sys.stderr.write(\"Could not connect to MongoDB: %s\" % e)\n",
      "    sys.exit(1)\n",
      "    "
     ],
     "language": "python",
     "metadata": {},
     "outputs": [
      {
       "output_type": "stream",
       "stream": "stdout",
       "text": [
        "Connected successfully\n",
        "MongoClient('localhost', 27017)\n"
       ]
      }
     ],
     "prompt_number": 39
    },
    {
     "cell_type": "code",
     "collapsed": false,
     "input": [
      "# Get a Database handle to a database named \"book\" \n",
      "book = c[\"book\"]\n",
      "assert book.client == c"
     ],
     "language": "python",
     "metadata": {},
     "outputs": [],
     "prompt_number": 24
    },
    {
     "cell_type": "code",
     "collapsed": false,
     "input": [
      "user_doc = {\n",
      "\"username\" : \"janedoe\",\n",
      "\"firstname\" : \"Jane\",\n",
      "\"surname\" : \"Doe\",\n",
      "\"dateofbirth\" : datetime(1974, 4, 12), \n",
      "\"email\" : \"janedoe74@example.com\", \n",
      "\"score\" : 0\n",
      "}\n",
      "book.users.insert(user_doc)\n",
      "print \"Successfully inserted document: %s\" % user_doc\n"
     ],
     "language": "python",
     "metadata": {},
     "outputs": [
      {
       "output_type": "stream",
       "stream": "stdout",
       "text": [
        "Successfully inserted document: {'username': 'janedoe', 'surname': 'Doe', 'firstname': 'Jane', 'dateofbirth': datetime.datetime(1974, 4, 12, 0, 0), 'score': 0, '_id': ObjectId('55996fbd2626e30de97f3f30'), 'email': 'janedoe74@example.com'}\n"
       ]
      }
     ],
     "prompt_number": 25
    },
    {
     "cell_type": "code",
     "collapsed": false,
     "input": [
      "users = book.users.find({\"firstname\":\"Jane\"})\n",
      "for user in users:\n",
      "    print(user.get(\"email\"))"
     ],
     "language": "python",
     "metadata": {},
     "outputs": [
      {
       "output_type": "stream",
       "stream": "stdout",
       "text": [
        "janedoe74@example.com\n",
        "janedoe74@example.com\n",
        "janedoe74@example.com\n",
        "janedoe74@example.com\n"
       ]
      }
     ],
     "prompt_number": 26
    },
    {
     "cell_type": "raw",
     "metadata": {},
     "source": [
      "> x <- rep(8,4)\n",
      ">x\n",
      "[1] 8 8 8 8\n",
      "> rep(c(5,12,13),3)\n",
      "[1] 51213 51213 51213 \n",
      "> rep(1:3,2)\n",
      "[1] 1 2 3 1 2 3"
     ]
    },
    {
     "cell_type": "code",
     "collapsed": false,
     "input": [
      "print([8]*4)\n",
      "print(5,12,13)*3\n",
      "print(range(1,4)*2)"
     ],
     "language": "python",
     "metadata": {},
     "outputs": [
      {
       "output_type": "stream",
       "stream": "stdout",
       "text": [
        "[8, 8, 8, 8]\n",
        "(5, 12, 13, 5, 12, 13, 5, 12, 13)\n",
        "[1, 2, 3, 1, 2, 3]\n"
       ]
      }
     ],
     "prompt_number": 27
    },
    {
     "cell_type": "raw",
     "metadata": {},
     "source": [
      "> x <- 1:10\n",
      "> any(x > 8)\n",
      "[1] TRUE\n",
      "> any(x > 88)\n",
      "[1] FALSE\n",
      "> all(x > 88)\n",
      "[1] FALSE\n",
      "> all(x > 0)\n",
      "[1] TRUE"
     ]
    },
    {
     "cell_type": "code",
     "collapsed": false,
     "input": [
      "x=range(1,11)\n",
      "print(any(True for e in x if e>8))\n",
      "print(any(True for e in x if e>88))\n",
      "print(len([1 for e in x if e>88]) == len(x))\n",
      "print(all(True for e in x if e>0))"
     ],
     "language": "python",
     "metadata": {},
     "outputs": [
      {
       "output_type": "stream",
       "stream": "stdout",
       "text": [
        "<generator object <genexpr> at 0x10facc500>\n",
        "<generator object <genexpr> at 0x10facc500>\n",
        "False\n",
        "<generator object <genexpr> at 0x10facc500>\n"
       ]
      }
     ],
     "prompt_number": 28
    },
    {
     "cell_type": "raw",
     "metadata": {},
     "source": [
      "# finding runs of consecutive 1s in vectors that consist just of 1s and 0s.\n",
      "findruns <- function(x,k) {\n",
      "   n <- length(x)\n",
      "   runs <- NULL\n",
      "   for (i in 1:(n-k+1)) {\n",
      "      if (all(x[i:(i+k-1)]==1)) runs <- c(runs,i) \n",
      "   }\n",
      "   return(runs)\n",
      "}\n",
      "> y <- c(1,0,0,1,1,1,0,1,1)\n",
      "> findruns(y,3)\n",
      "[1] 4\n",
      "> findruns(y,2)\n",
      "[1] 4 5 8\n",
      "> findruns(y,6)\n",
      "NULL"
     ]
    },
    {
     "cell_type": "code",
     "collapsed": false,
     "input": [
      "def findruns(x,k):\n",
      "    n=len(x)\n",
      "    runs = []\n",
      "    for i in range(n-k+1):\n",
      "        if (all(x[i:i+k]) == 1):\n",
      "            runs=runs+[i] \n",
      "    print runs\n",
      "    \n",
      "y = [1,0,0,1,1,1,0,1,1]\n",
      "findruns(y,3)\n",
      "findruns(y,2)\n",
      "findruns(y,6)"
     ],
     "language": "python",
     "metadata": {},
     "outputs": [
      {
       "output_type": "stream",
       "stream": "stdout",
       "text": [
        "[3]\n",
        "[3, 4, 7]\n",
        "[]\n"
       ]
      }
     ],
     "prompt_number": 29
    },
    {
     "cell_type": "code",
     "collapsed": false,
     "input": [
      "#find runs with no loops\n",
      "def findruns(x,k):\n",
      "    df=DataFrame(x, columns=['A'])\n",
      "    df['block'] = (df.A != df.A.shift(1)).astype(int).cumsum()\n",
      "    ones=df[df.A == 1]\n",
      "    ones['isOnesRun'] = ((ones.block == ones.block.shift(-k+1)))\n",
      "    print(ones[ones['isOnesRun']==True])\n",
      "    \n",
      "y = [1,0,0,1,1,1,0,1,1]\n",
      "findruns(y,3)\n",
      "findruns(y,2)\n",
      "findruns(y,6)"
     ],
     "language": "python",
     "metadata": {},
     "outputs": [
      {
       "output_type": "stream",
       "stream": "stdout",
       "text": [
        "   A  block isOnesRun\n",
        "3  1      3      True\n",
        "   A  block isOnesRun\n",
        "3  1      3      True\n",
        "4  1      3      True\n",
        "7  1      5      True"
       ]
      },
      {
       "output_type": "stream",
       "stream": "stdout",
       "text": [
        "\n",
        "Empty DataFrame\n",
        "Columns: [A, block, isOnesRun]\n",
        "Index: []"
       ]
      },
      {
       "output_type": "stream",
       "stream": "stdout",
       "text": [
        "\n"
       ]
      },
      {
       "output_type": "stream",
       "stream": "stderr",
       "text": [
        "-c:6: SettingWithCopyWarning: \n",
        "A value is trying to be set on a copy of a slice from a DataFrame.\n",
        "Try using .loc[row_indexer,col_indexer] = value instead\n",
        "\n",
        "See the the caveats in the documentation: http://pandas.pydata.org/pandas-docs/stable/indexing.html#indexing-view-versus-copy\n"
       ]
      }
     ],
     "prompt_number": 30
    },
    {
     "cell_type": "raw",
     "metadata": {},
     "source": [
      "> x <- c(1,3,8,2,20) \n",
      "> x[x > 3] <- 0\n",
      ">x\n",
      "[1] 1 3 0 2 0"
     ]
    },
    {
     "cell_type": "code",
     "collapsed": false,
     "input": [
      "x = [1,3,8,2,20]\n",
      "[0 if e > 3 else e for e in x ]\n"
     ],
     "language": "python",
     "metadata": {},
     "outputs": [
      {
       "metadata": {},
       "output_type": "pyout",
       "prompt_number": 35,
       "text": [
        "[1, 3, 0, 2, 0]"
       ]
      }
     ],
     "prompt_number": 35
    },
    {
     "cell_type": "raw",
     "metadata": {},
     "source": [
      "> z <- c(5,2,-3,8)\n",
      "> which(z*z > 8)\n",
      "[1] 1 3 4"
     ]
    },
    {
     "cell_type": "code",
     "collapsed": false,
     "input": [
      "z = [5,2,-3,8]\n",
      "[z.index(e) for e in z if e**2 > 8]"
     ],
     "language": "python",
     "metadata": {},
     "outputs": [
      {
       "metadata": {},
       "output_type": "pyout",
       "prompt_number": 32,
       "text": [
        "[0, 2, 3]"
       ]
      }
     ],
     "prompt_number": 32
    },
    {
     "cell_type": "raw",
     "metadata": {},
     "source": [
      "using one vector, z, to determine indices to use in filtering another vector, y\n",
      "> z <- c(5,2,-3,8) \n",
      "> y <- c(1,2,30,5) \n",
      "> y[z*z > 8]\n",
      "[1] 1 30 5"
     ]
    },
    {
     "cell_type": "code",
     "collapsed": false,
     "input": [
      "z = Series([5,2,-3,8])\n",
      "y = Series([1,2,30,5])\n",
      "y[z**2 > 8].tolist()"
     ],
     "language": "python",
     "metadata": {},
     "outputs": [
      {
       "metadata": {},
       "output_type": "pyout",
       "prompt_number": 33,
       "text": [
        "[1, 30, 5]"
       ]
      }
     ],
     "prompt_number": 33
    },
    {
     "cell_type": "code",
     "collapsed": false,
     "input": [
      "> x <- c(6,1:3,NA,12) \n",
      ">x\n",
      "[1] 6 1 2 3 NA 12 \n",
      "> x[x > 5]\n",
      "[1]  6 NA 12\n",
      "> subset(x,x > 5)\n",
      "[1]  6 12"
     ],
     "language": "python",
     "metadata": {},
     "outputs": [
      {
       "ename": "SyntaxError",
       "evalue": "invalid syntax (<ipython-input-34-3cb26eb380ea>, line 1)",
       "output_type": "pyerr",
       "traceback": [
        "\u001b[0;36m  File \u001b[0;32m\"<ipython-input-34-3cb26eb380ea>\"\u001b[0;36m, line \u001b[0;32m1\u001b[0m\n\u001b[0;31m    > x <- c(6,1:3,NA,12)\u001b[0m\n\u001b[0m    ^\u001b[0m\n\u001b[0;31mSyntaxError\u001b[0m\u001b[0;31m:\u001b[0m invalid syntax\n"
       ]
      }
     ],
     "prompt_number": 34
    },
    {
     "cell_type": "code",
     "collapsed": false,
     "input": [
      "x=Series([6] + range(1,4) + [None,12])\n",
      "x[x>5].astype(int).tolist()"
     ],
     "language": "python",
     "metadata": {},
     "outputs": []
    },
    {
     "cell_type": "raw",
     "metadata": {},
     "source": [
      "> z <- c(5,2,-3,8)\n",
      "> which(z*z > 8)\n",
      "[1] 1 3 4"
     ]
    },
    {
     "cell_type": "code",
     "collapsed": false,
     "input": [
      "z=[5,2,-3,8]\n",
      "[z.index(e) for e in z if e**2>8]"
     ],
     "language": "python",
     "metadata": {},
     "outputs": []
    },
    {
     "cell_type": "code",
     "collapsed": false,
     "input": [
      "#find the first 1 value within a vector x\n",
      "first1 <- function(x) {\n",
      "                for (i in 1:length(x)) {\n",
      "                   if (x[i] == 1) break  # break out of loop\n",
      "                }\n",
      "return(i) }\n",
      "#or\n",
      "first1a <- function(x) return(which(x == 1)[1])"
     ],
     "language": "python",
     "metadata": {},
     "outputs": []
    },
    {
     "cell_type": "code",
     "collapsed": false,
     "input": [
      "x = [0,2,3,4,1,5,6]\n",
      "[x.index(e) for e in x if e == 1][0]"
     ],
     "language": "python",
     "metadata": {},
     "outputs": []
    },
    {
     "cell_type": "code",
     "collapsed": false,
     "input": [
      "#produce a vector in which there is a 5 wherever x is even \n",
      "# or a 12 wherever x is odd.\n",
      "> x <- 1:10\n",
      "> y <- ifelse(x %% 2 == 0,5,12) # %% is the mod operator \n",
      ">y\n",
      "[1]12 5 12 5 12 5 12 5 12 5"
     ],
     "language": "python",
     "metadata": {},
     "outputs": []
    },
    {
     "cell_type": "code",
     "collapsed": false,
     "input": [
      "x=range(1,11)\n",
      "[5 if e%2==0 else 12 for e in x]"
     ],
     "language": "python",
     "metadata": {},
     "outputs": []
    },
    {
     "cell_type": "raw",
     "metadata": {},
     "source": [
      "# findud() converts vector v to 1s, 0s, representing an element\n",
      "# increasing or not, relative to the previous one; output length is 1\n",
      "# less than input\n",
      "findud <- function(v) :\n",
      "   vud <- v[-1] - v[-length(v)] \n",
      "   return(ifelse(vud > 0,1,-1))  \n",
      "}\n",
      "\n",
      "udcorr <- function(x,y):\n",
      "   ud <- lapply(list(x,y),findud)\n",
      "   return(nd.mean(ud[[1]] == ud[[2]]))\n",
      "}\n",
      "\n",
      ">x\n",
      "[1] 5 1 2 1 3 3 6 0 1 15 16 8 88\n",
      ">y\n",
      "[1] 4 2 3 23 6 10 11 12 6 3 2\n",
      "> udcorr(x,y)\n",
      "[1] 0.4"
     ]
    },
    {
     "cell_type": "code",
     "collapsed": false,
     "input": [
      "def findud(df):\n",
      "    v=np.where(df.shift(1) < df,1,0)\n",
      "    return DataFrame(v[1:])\n",
      "\n",
      "f = lambda x: x[0] == x[1]\n",
      "\n",
      "def udcorr(x,y):\n",
      "    v = DataFrame({'X':x,'Y':y})\n",
      "    df = findud(v)\n",
      "    print(np.mean(df.apply(f, axis=1)))\n",
      "\n",
      "x = [5,12,13,3 ,6,0 ,1 ,15,16,8,88]\n",
      "y = [4,2 ,3 ,23,6,10,11,12,6 ,3,2]\n",
      "udcorr(x,y)\n"
     ],
     "language": "python",
     "metadata": {},
     "outputs": []
    },
    {
     "cell_type": "code",
     "collapsed": false,
     "input": [
      "r2py=c[\"abalone\"]\n",
      "assert r2py.client == c\n",
      "with open('abalone.csv', mode='r') as infile:\n",
      "    reader = csv.DictReader(infile)\n",
      "    for row in reader:\n",
      "        r2py.abalone.insert(row)\n"
     ],
     "language": "python",
     "metadata": {},
     "outputs": [],
     "prompt_number": 41
    },
    {
     "cell_type": "raw",
     "metadata": {},
     "source": [
      "> grps <- list()\n",
      "> for (gen in c(\"M\",\"F\",\"I\")) grps[[gen]] <- which(g==gen)\n",
      "> grps\n",
      "$M\n",
      "[1] 1 5 6\n",
      "$F\n",
      "[1] 2 3 7\n",
      "$I [1] 4\n"
     ]
    },
    {
     "cell_type": "code",
     "collapsed": false,
     "input": [
      "\n",
      "def getByGender(g):\n",
      "    l = []\n",
      "    cur = r2py.abalone.find({\"sex\":g})\n",
      "    for e in cur:\n",
      "        l.append(e)\n",
      "    return l\n",
      "males = getByGender(\"M\")\n",
      "females = getByGender(\"F\")\n",
      "infants = getByGender(\"I\")\n"
     ],
     "language": "python",
     "metadata": {},
     "outputs": [],
     "prompt_number": 44
    },
    {
     "cell_type": "code",
     "collapsed": false,
     "input": [
      "fig = plt.figure()\n",
      "plot = fig.add_subplot(1,1,1)\n",
      "[float(m['diameter']) for m in males]\n",
      "plot.scatter([float(m['diameter']) for m in infants],\n",
      "             [float(m['length']) for m in infants], marker='+',color='red')\n",
      "plot.scatter([float(m['diameter']) for m in females],\n",
      "             [float(m['length']) for m in females], marker='o')\n",
      "plot.scatter([float(m['diameter']) for m in males],\n",
      "             [float(m['length']) for m in males], marker='x', color='green')"
     ],
     "language": "python",
     "metadata": {},
     "outputs": [
      {
       "metadata": {},
       "output_type": "pyout",
       "prompt_number": 65,
       "text": [
        "<matplotlib.collections.PathCollection at 0x1141e4b10>"
       ]
      },
      {
       "metadata": {},
       "output_type": "display_data",
       "png": "[encoded data removed]",
       "text": [
        "<matplotlib.figure.Figure at 0x1028ae090>"
       ]
      }
     ],
     "prompt_number": 65
    },
    {
     "cell_type": "raw",
     "metadata": {},
     "source": [
      "#Testing Vector Equality\n",
      "> identical(x,y)"
     ]
    },
    {
     "cell_type": "code",
     "collapsed": false,
     "input": [
      "x=range(3)\n",
      "y=range(3)\n",
      "print(x==y)\n",
      "x=range(4)\n",
      "print(x==y)"
     ],
     "language": "python",
     "metadata": {},
     "outputs": [
      {
       "output_type": "stream",
       "stream": "stdout",
       "text": [
        "True\n",
        "False\n"
       ]
      }
     ],
     "prompt_number": 68
    },
    {
     "cell_type": "raw",
     "metadata": {},
     "source": [
      "#Vector Element Names\n",
      "> x <- c(1,2,4)\n",
      "             > names(x)\n",
      "             NULL\n",
      "             > names(x) <- c(\"a\",\"b\",\"ab\")\n",
      "             > names(x)\n",
      "[1] \"a\" \"b\" \"ab\" >x\n",
      "a b ab \n",
      "1 2 4"
     ]
    },
    {
     "cell_type": "code",
     "collapsed": false,
     "input": [
      "x=DataFrame({'a':[1],'b':[2],'ab':[4]},index=[42])\n",
      "x"
     ],
     "language": "python",
     "metadata": {},
     "outputs": [
      {
       "html": [
        "<div style=\"max-height:1000px;max-width:1500px;overflow:auto;\">\n",
        "<table border=\"1\" class=\"dataframe\">\n",
        "  <thead>\n",
        "    <tr style=\"text-align: right;\">\n",
        "      <th></th>\n",
        "      <th>a</th>\n",
        "      <th>ab</th>\n",
        "      <th>b</th>\n",
        "    </tr>\n",
        "  </thead>\n",
        "  <tbody>\n",
        "    <tr>\n",
        "      <th>42</th>\n",
        "      <td>1</td>\n",
        "      <td>4</td>\n",
        "      <td>2</td>\n",
        "    </tr>\n",
        "  </tbody>\n",
        "</table>\n",
        "</div>"
       ],
       "metadata": {},
       "output_type": "pyout",
       "prompt_number": 87,
       "text": [
        "    a  ab  b\n",
        "42  1   4  2"
       ]
      }
     ],
     "prompt_number": 87
    },
    {
     "cell_type": "raw",
     "metadata": {},
     "source": [
      "#reference elements of the vector by name:\n",
      "> x <- c(1,2,4)\n",
      "> names(x) <- c(\"a\",\"b\",\"ab\")\n",
      "> x[\"b\"]\n",
      "b\n",
      "2"
     ]
    },
    {
     "cell_type": "code",
     "collapsed": false,
     "input": [
      "x['b']"
     ],
     "language": "python",
     "metadata": {},
     "outputs": [
      {
       "metadata": {},
       "output_type": "pyout",
       "prompt_number": 88,
       "text": [
        "42    2\n",
        "Name: b, dtype: int64"
       ]
      }
     ],
     "prompt_number": 88
    },
    {
     "cell_type": "raw",
     "metadata": {},
     "source": [
      "#mixing integer and character modes\n",
      "> c(5,2,\"abc\")\n",
      "[1] \"5\"   \"2\"   \"abc\""
     ]
    },
    {
     "cell_type": "code",
     "collapsed": false,
     "input": [],
     "language": "python",
     "metadata": {},
     "outputs": [],
     "prompt_number": 88
    },
    {
     "cell_type": "code",
     "collapsed": false,
     "input": [
      "x=[5,2,\"abc\"]\n",
      "print(x)\n",
      "\n",
      "x[1]+=3\n",
      "print(\"Series:\")\n",
      "print(Series(x))\n",
      "print(\"DataFrame:\")\n",
      "print(DataFrame(x))\n"
     ],
     "language": "python",
     "metadata": {},
     "outputs": [
      {
       "output_type": "stream",
       "stream": "stdout",
       "text": [
        "[5, 2, 'abc']\n",
        "Series:\n",
        "0      5\n",
        "1      5\n",
        "2    abc\n",
        "dtype: object\n",
        "DataFrame:\n",
        "     0\n",
        "0    5\n",
        "1    5\n",
        "2  abc\n"
       ]
      }
     ],
     "prompt_number": 96
    },
    {
     "cell_type": "raw",
     "metadata": {},
     "source": [
      "> y <- matrix(c(1,2,3,4),nrow=2,ncol=2) >y\n",
      "  [,1] [,2]\n",
      "[1,] 1    3\n",
      "[2,] 2    4"
     ]
    },
    {
     "cell_type": "code",
     "collapsed": false,
     "input": [
      "y=DataFrame(np.arange(1,5).reshape((2,2),order='F'))"
     ],
     "language": "python",
     "metadata": {},
     "outputs": [],
     "prompt_number": 120
    },
    {
     "cell_type": "raw",
     "metadata": {},
     "source": [
      "> m <- matrix(c(1,2,3,4,5,6),nrow=2,byrow=T) \n",
      ">m\n",
      "[,1] [,2] [,3]\n",
      "[1,]    1    2    3\n",
      "[2,]    4    5    6"
     ]
    },
    {
     "cell_type": "code",
     "collapsed": false,
     "input": [
      "DataFrame(np.arange(1,7).reshape((2,3),order='C'))"
     ],
     "language": "python",
     "metadata": {},
     "outputs": [
      {
       "html": [
        "<div style=\"max-height:1000px;max-width:1500px;overflow:auto;\">\n",
        "<table border=\"1\" class=\"dataframe\">\n",
        "  <thead>\n",
        "    <tr style=\"text-align: right;\">\n",
        "      <th></th>\n",
        "      <th>0</th>\n",
        "      <th>1</th>\n",
        "      <th>2</th>\n",
        "    </tr>\n",
        "  </thead>\n",
        "  <tbody>\n",
        "    <tr>\n",
        "      <th>0</th>\n",
        "      <td>1</td>\n",
        "      <td>2</td>\n",
        "      <td>3</td>\n",
        "    </tr>\n",
        "    <tr>\n",
        "      <th>1</th>\n",
        "      <td>4</td>\n",
        "      <td>5</td>\n",
        "      <td>6</td>\n",
        "    </tr>\n",
        "  </tbody>\n",
        "</table>\n",
        "</div>"
       ],
       "metadata": {},
       "output_type": "pyout",
       "prompt_number": 117,
       "text": [
        "   0  1  2\n",
        "0  1  2  3\n",
        "1  4  5  6"
       ]
      }
     ],
     "prompt_number": 117
    },
    {
     "cell_type": "raw",
     "metadata": {},
     "source": [
      "# mathematical matrix multiplication\n",
      "> y %*% y  \n",
      "               [,1] [,2]\n",
      "             [1,] 7   15\n",
      "             [2,]10   22\n",
      "             > 3*y  # mathematical multiplication of matrix by scalar\n",
      "               [,1] [,2]\n",
      "             [1,] 3    9\n",
      "             [2,] 6   12\n",
      "             > y+y  # mathematical matrix addition\n",
      "               [,1] [,2]\n",
      "             [1,] 2    6\n",
      "             [2,] 4    8"
     ]
    },
    {
     "cell_type": "code",
     "collapsed": false,
     "input": [
      "print(y.dot(y))\n",
      "print(3*y)\n",
      "print(y+y)"
     ],
     "language": "python",
     "metadata": {},
     "outputs": [
      {
       "output_type": "stream",
       "stream": "stdout",
       "text": [
        "    0   1\n",
        "0   7  15\n",
        "1  10  22\n",
        "   0   1\n",
        "0  3   9\n",
        "1  6  12\n",
        "   0  1\n",
        "0  2  6\n",
        "1  4  8\n"
       ]
      }
     ],
     "prompt_number": 125
    },
    {
     "cell_type": "code",
     "collapsed": false,
     "input": [
      "#Matrix Indexing\n",
      ">z\n",
      "[,1] [,2] [,3]\n",
      "[1,] 1    1    1\n",
      "[2,] 2    1    0\n",
      "[3,] 3    0    1\n",
      "[4,] 4    0    0\n",
      "> z[,2:3]\n",
      "  [,1] [,2]\n",
      "[1,] 1    1\n",
      "[2,] 1    0\n",
      "[3,] 0    1\n",
      "[4,] 0    0"
     ],
     "language": "python",
     "metadata": {},
     "outputs": []
    },
    {
     "cell_type": "code",
     "collapsed": false,
     "input": [
      "#Matrix Indexing\n",
      "x=np.array([1,1,1,2,1,0,3,0,1,4,0,0]).reshape(4,3)\n",
      "print(x)\n",
      "x[:,1:]"
     ],
     "language": "python",
     "metadata": {},
     "outputs": [
      {
       "output_type": "stream",
       "stream": "stdout",
       "text": [
        "[[1 1 1]\n",
        " [2 1 0]\n",
        " [3 0 1]\n",
        " [4 0 0]]\n"
       ]
      },
      {
       "metadata": {},
       "output_type": "pyout",
       "prompt_number": 144,
       "text": [
        "array([[1, 1],\n",
        "       [1, 0],\n",
        "       [0, 1],\n",
        "       [0, 0]])"
       ]
      }
     ],
     "prompt_number": 144
    },
    {
     "cell_type": "raw",
     "metadata": {},
     "source": [
      "# extracting rows instead of columns\n",
      ">y\n",
      "[,1] [,2]\n",
      "[1,]11   12\n",
      "[2,]21   22\n",
      "[3,]31   32\n",
      "> y[2:3,]\n",
      "  [,1] [,2]\n",
      "[1,]21   22\n",
      "[2,]31   32\n",
      "> y[2:3,2]\n",
      "[1] 22 32"
     ]
    },
    {
     "cell_type": "code",
     "collapsed": false,
     "input": [
      "x=array([11,12,21,22,31,32]).reshape(3,2)\n",
      "print(x[1:,:])\n",
      "print\n",
      "print(x[1:,1:].T)"
     ],
     "language": "python",
     "metadata": {},
     "outputs": [
      {
       "output_type": "stream",
       "stream": "stdout",
       "text": [
        "[[21 22]\n",
        " [31 32]]\n",
        "\n",
        "[[22 32]]\n"
       ]
      }
     ],
     "prompt_number": 157
    },
    {
     "cell_type": "raw",
     "metadata": {},
     "source": [
      "#assign values to submatrices:\n",
      ">y\n",
      "[,1] [,2]\n",
      "[1,] 1 4\n",
      "[2,] 2 5\n",
      "[3,] 3 6\n",
      "> y[c(1,3),] <- matrix(c(1,1,8,12),nrow=2) \n",
      ">y\n",
      "     [,1] [,2]\n",
      "[1,]    1    8\n",
      "[2,]    2    5\n",
      "[3,]    1   12"
     ]
    },
    {
     "cell_type": "code",
     "collapsed": false,
     "input": [
      "y=np.array(np.arange(1,7).reshape((3,2),order='F'))\n",
      "y[:1,:] = [1,8]\n",
      "y[2:,:] = [1,12]\n",
      "y"
     ],
     "language": "python",
     "metadata": {},
     "outputs": [
      {
       "metadata": {},
       "output_type": "pyout",
       "prompt_number": 169,
       "text": [
        "array([[ 1,  8],\n",
        "       [ 2,  5],\n",
        "       [ 1, 12]])"
       ]
      }
     ],
     "prompt_number": 169
    },
    {
     "cell_type": "code",
     "collapsed": false,
     "input": [],
     "language": "python",
     "metadata": {},
     "outputs": []
    }
   ],
   "metadata": {}
  }
 ]
}