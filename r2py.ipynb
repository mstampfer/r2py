{
 "metadata": {
  "name": "",
  "signature": "sha256:af72a1a4d8c29cfb820621bcc4682443632e051d4510222573bdce64f90ad461"
 },
 "nbformat": 3,
 "nbformat_minor": 0,
 "worksheets": [
  {
   "cells": [
    {
     "cell_type": "code",
     "collapsed": false,
     "input": [
      "import numpy as np\n",
      "import pandas as pd\n",
      "from pandas import Series\n",
      "from pandas import DataFrame\n",
      "import matplotlib.pyplot as plt"
     ],
     "language": "python",
     "metadata": {},
     "outputs": [],
     "prompt_number": 4
    },
    {
     "cell_type": "raw",
     "metadata": {},
     "source": [
      "#Generates the 100 random variates, finds their absolute values, and then #finds the mean of the absolute values\n",
      "> mean(abs(rnorm(100)))"
     ]
    },
    {
     "cell_type": "code",
     "collapsed": false,
     "input": [
      "Series(np.random.normal(0,1,100)).abs().mean()"
     ],
     "language": "python",
     "metadata": {},
     "outputs": [
      {
       "metadata": {},
       "output_type": "pyout",
       "prompt_number": 5,
       "text": [
        "0.77784480608939544"
       ]
      }
     ],
     "prompt_number": 5
    },
    {
     "cell_type": "code",
     "collapsed": false,
     "input": [
      "np.mean(np.abs(np.random.normal(0,1,100)))"
     ],
     "language": "python",
     "metadata": {},
     "outputs": [
      {
       "metadata": {},
       "output_type": "pyout",
       "prompt_number": 6,
       "text": [
        "0.8155493653745941"
       ]
      }
     ],
     "prompt_number": 6
    },
    {
     "cell_type": "raw",
     "metadata": {},
     "source": [
      "#Run script on the filesystem\n",
      "> source(\"z.R\")"
     ]
    },
    {
     "cell_type": "code",
     "collapsed": false,
     "input": [
      "%run /Users/marcel/work/r2py/z.py"
     ],
     "language": "python",
     "metadata": {},
     "outputs": [
      {
       "output_type": "stream",
       "stream": "stdout",
       "text": [
        "Hello World!\n"
       ]
      }
     ],
     "prompt_number": 7
    },
    {
     "cell_type": "raw",
     "metadata": {},
     "source": [
      "# set graphical output file\n",
      "pdf(\"xh.pdf\")  \n",
      "# generate 100 N(0,1) variates and plot their histogram\n",
      "hist(rnorm(100))  \n",
      "# close the graphical output file\n",
      "dev.off()  "
     ]
    },
    {
     "cell_type": "code",
     "collapsed": false,
     "input": [
      "df = Series(np.random.normal(0,1,100))\n",
      "df.hist(bins=50)\n",
      "df.plot(kind='kde', style='k--')"
     ],
     "language": "python",
     "metadata": {},
     "outputs": [
      {
       "metadata": {},
       "output_type": "pyout",
       "prompt_number": 8,
       "text": [
        "<matplotlib.axes._subplots.AxesSubplot at 0x10cd75750>"
       ]
      }
     ],
     "prompt_number": 8
    },
    {
     "cell_type": "code",
     "collapsed": false,
     "input": [
      "fig = plt.figure()\n",
      "ax = fig.add_subplot(1,1,1)\n",
      "ax.hist(df, bins=50)\n",
      "plt.savefig('xh.pdf')"
     ],
     "language": "python",
     "metadata": {},
     "outputs": [],
     "prompt_number": 9
    },
    {
     "cell_type": "raw",
     "metadata": {},
     "source": [
      "a simple data set (in R parlance, a vector ) consisting of the numbers 1, 2, and 4, and name it x:\n",
      "> x <- c(1,2,4)     "
     ]
    },
    {
     "cell_type": "code",
     "collapsed": false,
     "input": [
      "x=[1,2,4]\n",
      "print(x)\n",
      "x[2]"
     ],
     "language": "python",
     "metadata": {},
     "outputs": [
      {
       "output_type": "stream",
       "stream": "stdout",
       "text": [
        "[1, 2, 4]\n"
       ]
      },
      {
       "metadata": {},
       "output_type": "pyout",
       "prompt_number": 10,
       "text": [
        "4"
       ]
      }
     ],
     "prompt_number": 10
    },
    {
     "cell_type": "raw",
     "metadata": {},
     "source": [
      "concatonate x's\n",
      "q <- c(x,x,8)"
     ]
    },
    {
     "cell_type": "code",
     "collapsed": false,
     "input": [
      "q=x+x+[8]\n",
      "q"
     ],
     "language": "python",
     "metadata": {},
     "outputs": [
      {
       "metadata": {},
       "output_type": "pyout",
       "prompt_number": 11,
       "text": [
        "[1, 2, 4, 1, 2, 4, 8]"
       ]
      }
     ],
     "prompt_number": 11
    },
    {
     "cell_type": "raw",
     "metadata": {},
     "source": [
      "> x <- c(1,2,4)\n",
      "> x[2:3]\n",
      "[1] 2 4"
     ]
    },
    {
     "cell_type": "code",
     "collapsed": false,
     "input": [
      "x=[1,2,4]\n",
      "x[1:]"
     ],
     "language": "python",
     "metadata": {},
     "outputs": [
      {
       "metadata": {},
       "output_type": "pyout",
       "prompt_number": 12,
       "text": [
        "[2, 4]"
       ]
      }
     ],
     "prompt_number": 12
    },
    {
     "cell_type": "raw",
     "metadata": {},
     "source": [
      "> mean(x)\n",
      "[1] 2.333333\n",
      "\n",
      "# prints sample standard deviation\n",
      "> sd(x)\n",
      "[1] 1.527525"
     ]
    },
    {
     "cell_type": "code",
     "collapsed": false,
     "input": [
      "print(np.mean(x))\n",
      "\n",
      "#prints population standard deviation\n",
      "np.std(x)\n",
      "\n",
      "#prints sample standard deviation\n",
      "avg = np.mean(x)\n",
      "sz = len(x)-1\n",
      "np.sqrt(sum([(e-avg)**2/sz for e in x]))"
     ],
     "language": "python",
     "metadata": {},
     "outputs": [
      {
       "output_type": "stream",
       "stream": "stdout",
       "text": [
        "2.33333333333\n"
       ]
      },
      {
       "metadata": {},
       "output_type": "pyout",
       "prompt_number": 19,
       "text": [
        "1.5275252316519465"
       ]
      }
     ],
     "prompt_number": 19
    },
    {
     "cell_type": "raw",
     "metadata": {},
     "source": [
      "# counts the number of odd integers in x\n",
      "oddcount <- function(x)  {\n",
      "   k <- 0  # assign 0 to k\n",
      "   for (n in x)  {\n",
      "      if (n %% 2 == 1) k <- k+1  # %% is the modulo operator\n",
      "   }\n",
      "   return(k)\n",
      "}\n",
      "> oddcount(c(1,3,5))\n",
      "[1] 3\n",
      "> oddcount(c(1,2,3,7,9))\n",
      "[1] 4\n"
     ]
    },
    {
     "cell_type": "code",
     "collapsed": false,
     "input": [
      "# counts the number of odd integers in x\n",
      "def oddcount(l):\n",
      "    print(sum([1 for e in l if e%2==1]))\n",
      "    \n",
      "oddcount([1,3,5])\n",
      "oddcount([1,2,3,7,9])"
     ],
     "language": "python",
     "metadata": {},
     "outputs": [
      {
       "output_type": "stream",
       "stream": "stdout",
       "text": [
        "3\n",
        "4\n"
       ]
      }
     ],
     "prompt_number": 25
    },
    {
     "cell_type": "raw",
     "metadata": {},
     "source": [
      ">m\n",
      "      [,1] [,2]\n",
      "[1,]    1    2\n",
      "[2,]    3    4\n",
      "> m + 10:13\n",
      "      [,1] [,2]\n",
      "[1,]   11   14\n",
      "[2,]   14   17"
     ]
    },
    {
     "cell_type": "code",
     "collapsed": false,
     "input": [
      "m=DataFrame(np.arange(1,5).reshape((2, 2)), index=[1, 2], columns=[1,2])\n",
      "n=DataFrame(np.arange(10,14).reshape((2,2)), index=[1, 2], columns=[1,2])\n",
      "m+n.T"
     ],
     "language": "python",
     "metadata": {},
     "outputs": [
      {
       "html": [
        "<div style=\"max-height:1000px;max-width:1500px;overflow:auto;\">\n",
        "<table border=\"1\" class=\"dataframe\">\n",
        "  <thead>\n",
        "    <tr style=\"text-align: right;\">\n",
        "      <th></th>\n",
        "      <th>1</th>\n",
        "      <th>2</th>\n",
        "    </tr>\n",
        "  </thead>\n",
        "  <tbody>\n",
        "    <tr>\n",
        "      <th>1</th>\n",
        "      <td>11</td>\n",
        "      <td>14</td>\n",
        "    </tr>\n",
        "    <tr>\n",
        "      <th>2</th>\n",
        "      <td>14</td>\n",
        "      <td>17</td>\n",
        "    </tr>\n",
        "  </tbody>\n",
        "</table>\n",
        "</div>"
       ],
       "metadata": {},
       "output_type": "pyout",
       "prompt_number": 38,
       "text": [
        "    1   2\n",
        "1  11  14\n",
        "2  14  17"
       ]
      }
     ],
     "prompt_number": 38
    },
    {
     "cell_type": "raw",
     "metadata": {},
     "source": [
      "> x <- c(1,2,4)\n",
      "> x * c(5,0,-1)   \n",
      "[1] 5 0 -4\n",
      "> x / c(5,4,-1)\n",
      "[1]  0.2  0.5 -4.0\n",
      "> x %% c(5,4,-1)\n",
      "[1] 1 2 0"
     ]
    },
    {
     "cell_type": "code",
     "collapsed": false,
     "input": [
      "x=Series([1,2,4])\n",
      "print(x*Series([5,0,-1]))\n",
      "print(x/Series([5,4,-1]))\n",
      "print(x%Series([5,4,-1]))"
     ],
     "language": "python",
     "metadata": {},
     "outputs": [
      {
       "output_type": "stream",
       "stream": "stdout",
       "text": [
        "0    5\n",
        "1    0\n",
        "2   -4\n",
        "dtype: int64\n",
        "0    0.2\n",
        "1    0.5\n",
        "2   -4.0\n",
        "dtype: float64\n",
        "0    1\n",
        "1    2\n",
        "2    0\n",
        "dtype: int64\n"
       ]
      }
     ],
     "prompt_number": 43
    },
    {
     "cell_type": "raw",
     "metadata": {},
     "source": [
      "> y <- c(1.2,3.9,0.4,0.12)\n",
      "> y[c(1,3)]  # extract elements 1 and 3 of y\n",
      "[1] 1.2 0.4\n",
      "> y[2:3]\n",
      "[1] 3.9 0.4\n",
      "> v <- 3:4\n",
      "> y[v]\n",
      "[1] 0.40 0.12"
     ]
    },
    {
     "cell_type": "code",
     "collapsed": false,
     "input": [
      "obj = Series([1.2,3.9,0.4,0.12])\n",
      "print(obj[[0,2]])\n",
      "print(obj[1:3])\n",
      "print(obj[np.arange(2,4)])"
     ],
     "language": "python",
     "metadata": {},
     "outputs": [
      {
       "output_type": "stream",
       "stream": "stdout",
       "text": [
        "0    1.2\n",
        "2    0.4\n",
        "dtype: float64\n",
        "1    3.9\n",
        "2    0.4\n",
        "dtype: float64\n",
        "2    0.40\n",
        "3    0.12\n",
        "dtype: float64\n"
       ]
      }
     ],
     "prompt_number": 54
    },
    {
     "cell_type": "code",
     "collapsed": false,
     "input": [],
     "language": "python",
     "metadata": {},
     "outputs": []
    }
   ],
   "metadata": {}
  }
 ]
}