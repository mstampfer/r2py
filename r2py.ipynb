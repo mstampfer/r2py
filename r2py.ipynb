{
 "metadata": {
  "name": "",
  "signature": "sha256:648f2347a67bc7822ff4b41227f773909a53ef9a054811ba4f944c502385d154"
 },
 "nbformat": 3,
 "nbformat_minor": 0,
 "worksheets": [
  {
   "cells": [
    {
     "cell_type": "code",
     "collapsed": false,
     "input": [
      "import numpy as np\n",
      "import pandas as pd\n",
      "from pandas import Series\n",
      "from pandas import DataFrame\n",
      "import matplotlib.pyplot as plt"
     ],
     "language": "python",
     "metadata": {},
     "outputs": [],
     "prompt_number": 31
    },
    {
     "cell_type": "raw",
     "metadata": {},
     "source": [
      "#Generates the 100 random variates, finds their absolute values, and then #finds the mean of the absolute values\n",
      "> mean(abs(rnorm(100)))"
     ]
    },
    {
     "cell_type": "code",
     "collapsed": false,
     "input": [
      "Series(np.random.normal(0,1,100)).abs().mean()"
     ],
     "language": "python",
     "metadata": {},
     "outputs": [
      {
       "metadata": {},
       "output_type": "pyout",
       "prompt_number": 4,
       "text": [
        "0.76484058706379865"
       ]
      }
     ],
     "prompt_number": 4
    },
    {
     "cell_type": "code",
     "collapsed": false,
     "input": [
      "np.mean(np.abs(np.random.normal(0,1,100)))"
     ],
     "language": "python",
     "metadata": {},
     "outputs": [
      {
       "metadata": {},
       "output_type": "pyout",
       "prompt_number": 5,
       "text": [
        "0.76415731362983275"
       ]
      }
     ],
     "prompt_number": 5
    },
    {
     "cell_type": "raw",
     "metadata": {},
     "source": [
      "#Run script on the filesystem\n",
      "> source(\"z.R\")"
     ]
    },
    {
     "cell_type": "code",
     "collapsed": false,
     "input": [
      "%run /Users/marcel/work/r2py/z.py"
     ],
     "language": "python",
     "metadata": {},
     "outputs": [
      {
       "output_type": "stream",
       "stream": "stdout",
       "text": [
        "Hello World!\n"
       ]
      }
     ],
     "prompt_number": 76
    },
    {
     "cell_type": "raw",
     "metadata": {},
     "source": [
      "# set graphical output file\n",
      "pdf(\"xh.pdf\")  \n",
      "# generate 100 N(0,1) variates and plot their histogram\n",
      "hist(rnorm(100))  \n",
      "# close the graphical output file\n",
      "dev.off()  "
     ]
    },
    {
     "cell_type": "code",
     "collapsed": false,
     "input": [
      "df = Series(np.random.normal(0,1,100))\n",
      "df.hist(bins=50)\n",
      "df.plot(kind='kde', style='k--')"
     ],
     "language": "python",
     "metadata": {},
     "outputs": [
      {
       "metadata": {},
       "output_type": "pyout",
       "prompt_number": 19,
       "text": [
        "<matplotlib.axes._subplots.AxesSubplot at 0x10ed0a610>"
       ]
      },
      {
       "metadata": {},
       "output_type": "display_data",
       "png": "[encoded data removed]",
       "text": [
        "<matplotlib.figure.Figure at 0x10eca7690>"
       ]
      }
     ],
     "prompt_number": 19
    },
    {
     "cell_type": "code",
     "collapsed": false,
     "input": [
      "fig = plt.figure()\n",
      "ax = fig.add_subplot(1,1,1)\n",
      "ax.hist(df, bins=50)\n",
      "plt.savefig('xh.pdf')"
     ],
     "language": "python",
     "metadata": {},
     "outputs": [
      {
       "metadata": {},
       "output_type": "display_data",
       "png": "[encoded data removed]",
       "text": [
        "<matplotlib.figure.Figure at 0x10fe6e090>"
       ]
      }
     ],
     "prompt_number": 29
    },
    {
     "cell_type": "raw",
     "metadata": {},
     "source": [
      "a simple data set (in R parlance, a vector ) consisting of the numbers 1, 2, and 4, and name it x:\n",
      "> x <- c(1,2,4)     "
     ]
    },
    {
     "cell_type": "code",
     "collapsed": false,
     "input": [
      "x=[1,2,4]\n",
      "print(x)\n",
      "x[2]"
     ],
     "language": "python",
     "metadata": {},
     "outputs": [
      {
       "output_type": "stream",
       "stream": "stdout",
       "text": [
        "[1, 2, 4]\n"
       ]
      },
      {
       "metadata": {},
       "output_type": "pyout",
       "prompt_number": 36,
       "text": [
        "4"
       ]
      }
     ],
     "prompt_number": 36
    },
    {
     "cell_type": "raw",
     "metadata": {},
     "source": [
      "concatonate x's\n",
      "q <- c(x,x,8)"
     ]
    },
    {
     "cell_type": "code",
     "collapsed": false,
     "input": [
      "q=x+x+[8]\n",
      "q"
     ],
     "language": "python",
     "metadata": {},
     "outputs": [
      {
       "metadata": {},
       "output_type": "pyout",
       "prompt_number": 39,
       "text": [
        "[1, 2, 4, 1, 2, 4, 8]"
       ]
      }
     ],
     "prompt_number": 39
    },
    {
     "cell_type": "raw",
     "metadata": {},
     "source": [
      "> x <- c(1,2,4)\n",
      "> x[2:3]\n",
      "[1] 2 4"
     ]
    },
    {
     "cell_type": "code",
     "collapsed": false,
     "input": [
      "x=[1,2,4]\n",
      "x[1:]"
     ],
     "language": "python",
     "metadata": {},
     "outputs": [
      {
       "metadata": {},
       "output_type": "pyout",
       "prompt_number": 41,
       "text": [
        "[2, 4]"
       ]
      }
     ],
     "prompt_number": 41
    },
    {
     "cell_type": "raw",
     "metadata": {},
     "source": [
      "> mean(x)\n",
      "[1] 2.333333\n",
      "\n",
      "# prints sample standard deviation\n",
      "> sd(x)\n",
      "[1] 1.527525"
     ]
    },
    {
     "cell_type": "code",
     "collapsed": false,
     "input": [
      "print(mean(x))\n",
      "\n",
      "#prints population standard deviation\n",
      "np.std(x)\n",
      "\n",
      "#prints sample standard deviation\n",
      "avg = mean(x)\n",
      "sz = len(x)-1\n",
      "sqrt(sum([(e-avg)**2/sz for e in x]))"
     ],
     "language": "python",
     "metadata": {},
     "outputs": [
      {
       "output_type": "stream",
       "stream": "stdout",
       "text": [
        "2.33333333333\n"
       ]
      },
      {
       "metadata": {},
       "output_type": "pyout",
       "prompt_number": 59,
       "text": [
        "1.5275252316519465"
       ]
      }
     ],
     "prompt_number": 59
    },
    {
     "cell_type": "raw",
     "metadata": {},
     "source": [
      "# counts the number of odd integers in x\n",
      "oddcount <- function(x)  {\n",
      "   k <- 0  # assign 0 to k\n",
      "   for (n in x)  {\n",
      "      if (n %% 2 == 1) k <- k+1  # %% is the modulo operator\n",
      "   }\n",
      "   return(k)\n",
      "}\n",
      "> oddcount(c(1,3,5))\n",
      "[1] 3\n",
      "> oddcount(c(1,2,3,7,9))\n",
      "[1] 4\n"
     ]
    },
    {
     "cell_type": "code",
     "collapsed": false,
     "input": [
      "# counts the number of odd integers in x\n",
      "def oddcount(l):\n",
      "    print(pd.value_counts([True for e in l if e%2==1]))\n",
      "    \n",
      "oddcount([1,3,5])\n",
      "oddcount([1,2,3,7,9])"
     ],
     "language": "python",
     "metadata": {},
     "outputs": [
      {
       "output_type": "stream",
       "stream": "stdout",
       "text": [
        "True    3\n",
        "dtype: int64\n",
        "True    4\n",
        "dtype: int64\n"
       ]
      }
     ],
     "prompt_number": 73
    },
    {
     "cell_type": "code",
     "collapsed": false,
     "input": [],
     "language": "python",
     "metadata": {},
     "outputs": []
    }
   ],
   "metadata": {}
  }
 ]
}