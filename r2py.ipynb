{
 "metadata": {
  "name": "",
  "signature": "sha256:27b98344f4477254c332309e8f5a37e7a1eefe09013189a06ece2f01f384d24a"
 },
 "nbformat": 3,
 "nbformat_minor": 0,
 "worksheets": [
  {
   "cells": [
    {
     "cell_type": "code",
     "collapsed": false,
     "input": [
      "import numpy as np\n",
      "import pandas as pd\n",
      "from pandas import Series\n",
      "from pandas import DataFrame\n",
      "import matplotlib.pyplot as plt\n",
      "import sys\n",
      "from pymongo import MongoClient\n",
      "from pymongo.errors import ConnectionFailure"
     ],
     "language": "python",
     "metadata": {},
     "outputs": [],
     "prompt_number": 2
    },
    {
     "cell_type": "raw",
     "metadata": {},
     "source": [
      "#Generates the 100 random variates, finds their absolute values, and then #finds the mean of the absolute values\n",
      "> mean(abs(rnorm(100)))"
     ]
    },
    {
     "cell_type": "code",
     "collapsed": false,
     "input": [
      "Series(np.random.normal(0,1,100)).abs().mean()"
     ],
     "language": "python",
     "metadata": {},
     "outputs": [
      {
       "metadata": {},
       "output_type": "pyout",
       "prompt_number": 56,
       "text": [
        "0.78327385409511763"
       ]
      }
     ],
     "prompt_number": 56
    },
    {
     "cell_type": "code",
     "collapsed": false,
     "input": [
      "np.mean(np.abs(np.random.normal(0,1,100)))"
     ],
     "language": "python",
     "metadata": {},
     "outputs": [
      {
       "metadata": {},
       "output_type": "pyout",
       "prompt_number": 57,
       "text": [
        "0.73954395418484453"
       ]
      }
     ],
     "prompt_number": 57
    },
    {
     "cell_type": "raw",
     "metadata": {},
     "source": [
      "#Run script on the filesystem\n",
      "> source(\"z.R\")"
     ]
    },
    {
     "cell_type": "code",
     "collapsed": false,
     "input": [
      "%run /Users/marcel/work/r2py/z.py"
     ],
     "language": "python",
     "metadata": {},
     "outputs": [
      {
       "output_type": "stream",
       "stream": "stdout",
       "text": [
        "Hello World!\n"
       ]
      }
     ],
     "prompt_number": 58
    },
    {
     "cell_type": "raw",
     "metadata": {},
     "source": [
      "# set graphical output file\n",
      "pdf(\"xh.pdf\")  \n",
      "# generate 100 N(0,1) variates and plot their histogram\n",
      "hist(rnorm(100))  \n",
      "# close the graphical output file\n",
      "dev.off()  "
     ]
    },
    {
     "cell_type": "code",
     "collapsed": false,
     "input": [
      "df = Series(np.random.normal(0,1,100))\n",
      "df.hist(bins=50)\n",
      "df.plot(kind='kde', style='k--')"
     ],
     "language": "python",
     "metadata": {},
     "outputs": [
      {
       "metadata": {},
       "output_type": "pyout",
       "prompt_number": 102,
       "text": [
        "<matplotlib.axes._subplots.AxesSubplot at 0x10d6741d0>"
       ]
      }
     ],
     "prompt_number": 102
    },
    {
     "cell_type": "code",
     "collapsed": false,
     "input": [
      "fig = plt.figure()\n",
      "ax = fig.add_subplot(1,1,1)\n",
      "ax.hist(df, bins=50)\n",
      "plt.savefig('xh.pdf')"
     ],
     "language": "python",
     "metadata": {},
     "outputs": [],
     "prompt_number": 60
    },
    {
     "cell_type": "raw",
     "metadata": {},
     "source": [
      "a simple data set (in R parlance, a vector ) consisting of the numbers 1, 2, and 4, and name it x:\n",
      "> x <- c(1,2,4)     "
     ]
    },
    {
     "cell_type": "code",
     "collapsed": false,
     "input": [
      "x=[1,2,4]\n",
      "print(x)\n",
      "x[2]"
     ],
     "language": "python",
     "metadata": {},
     "outputs": [
      {
       "output_type": "stream",
       "stream": "stdout",
       "text": [
        "[1, 2, 4]\n"
       ]
      },
      {
       "metadata": {},
       "output_type": "pyout",
       "prompt_number": 61,
       "text": [
        "4"
       ]
      }
     ],
     "prompt_number": 61
    },
    {
     "cell_type": "raw",
     "metadata": {},
     "source": [
      "concatonate x's\n",
      "q <- c(x,x,8)"
     ]
    },
    {
     "cell_type": "code",
     "collapsed": false,
     "input": [
      "q=x+x+[8]\n",
      "q"
     ],
     "language": "python",
     "metadata": {},
     "outputs": [
      {
       "metadata": {},
       "output_type": "pyout",
       "prompt_number": 62,
       "text": [
        "[1, 2, 4, 1, 2, 4, 8]"
       ]
      }
     ],
     "prompt_number": 62
    },
    {
     "cell_type": "raw",
     "metadata": {},
     "source": [
      "> x <- c(1,2,4)\n",
      "> x[2:3]\n",
      "[1] 2 4"
     ]
    },
    {
     "cell_type": "code",
     "collapsed": false,
     "input": [
      "x=[1,2,4]\n",
      "x[1:]"
     ],
     "language": "python",
     "metadata": {},
     "outputs": [
      {
       "metadata": {},
       "output_type": "pyout",
       "prompt_number": 63,
       "text": [
        "[2, 4]"
       ]
      }
     ],
     "prompt_number": 63
    },
    {
     "cell_type": "raw",
     "metadata": {},
     "source": [
      "> mean(x)\n",
      "[1] 2.333333\n",
      "\n",
      "# prints sample standard deviation\n",
      "> sd(x)\n",
      "[1] 1.527525"
     ]
    },
    {
     "cell_type": "code",
     "collapsed": false,
     "input": [
      "print(np.mean(x))\n",
      "\n",
      "#prints population standard deviation\n",
      "np.std(x)\n",
      "\n",
      "#prints sample standard deviation\n",
      "avg = np.mean(x)\n",
      "sz = len(x)-1\n",
      "np.sqrt(sum([(e-avg)**2/sz for e in x]))"
     ],
     "language": "python",
     "metadata": {},
     "outputs": [
      {
       "output_type": "stream",
       "stream": "stdout",
       "text": [
        "2.33333333333\n"
       ]
      },
      {
       "metadata": {},
       "output_type": "pyout",
       "prompt_number": 64,
       "text": [
        "1.5275252316519465"
       ]
      }
     ],
     "prompt_number": 64
    },
    {
     "cell_type": "raw",
     "metadata": {},
     "source": [
      "# counts the number of odd integers in x\n",
      "oddcount <- function(x)  {\n",
      "   k <- 0  # assign 0 to k\n",
      "   for (n in x)  {\n",
      "      if (n %% 2 == 1) k <- k+1  # %% is the modulo operator\n",
      "   }\n",
      "   return(k)\n",
      "}\n",
      "> oddcount(c(1,3,5))\n",
      "[1] 3\n",
      "> oddcount(c(1,2,3,7,9))\n",
      "[1] 4\n"
     ]
    },
    {
     "cell_type": "code",
     "collapsed": false,
     "input": [
      "# counts the number of odd integers in x\n",
      "def oddcount(l):\n",
      "    print(sum([1 for e in l if e%2==1]))\n",
      "    \n",
      "oddcount([1,3,5])\n",
      "oddcount([1,2,3,7,9])"
     ],
     "language": "python",
     "metadata": {},
     "outputs": [
      {
       "output_type": "stream",
       "stream": "stdout",
       "text": [
        "3\n",
        "4\n"
       ]
      }
     ],
     "prompt_number": 65
    },
    {
     "cell_type": "raw",
     "metadata": {},
     "source": [
      ">m\n",
      "      [,1] [,2]\n",
      "[1,]    1    2\n",
      "[2,]    3    4\n",
      "> m + 10:13\n",
      "      [,1] [,2]\n",
      "[1,]   11   14\n",
      "[2,]   14   17"
     ]
    },
    {
     "cell_type": "code",
     "collapsed": false,
     "input": [
      "m=DataFrame(np.arange(1,5).reshape((2, 2)), index=[1, 2], columns=[1,2])\n",
      "n=DataFrame(np.arange(10,14).reshape((2,2)), index=[1, 2], columns=[1,2])\n",
      "m+n.T"
     ],
     "language": "python",
     "metadata": {},
     "outputs": [
      {
       "html": [
        "<div style=\"max-height:1000px;max-width:1500px;overflow:auto;\">\n",
        "<table border=\"1\" class=\"dataframe\">\n",
        "  <thead>\n",
        "    <tr style=\"text-align: right;\">\n",
        "      <th></th>\n",
        "      <th>1</th>\n",
        "      <th>2</th>\n",
        "    </tr>\n",
        "  </thead>\n",
        "  <tbody>\n",
        "    <tr>\n",
        "      <th>1</th>\n",
        "      <td>11</td>\n",
        "      <td>14</td>\n",
        "    </tr>\n",
        "    <tr>\n",
        "      <th>2</th>\n",
        "      <td>14</td>\n",
        "      <td>17</td>\n",
        "    </tr>\n",
        "  </tbody>\n",
        "</table>\n",
        "</div>"
       ],
       "metadata": {},
       "output_type": "pyout",
       "prompt_number": 66,
       "text": [
        "    1   2\n",
        "1  11  14\n",
        "2  14  17"
       ]
      }
     ],
     "prompt_number": 66
    },
    {
     "cell_type": "raw",
     "metadata": {},
     "source": [
      "> x <- c(1,2,4)\n",
      "> x * c(5,0,-1)   \n",
      "[1] 5 0 -4\n",
      "> x / c(5,4,-1)\n",
      "[1]  0.2  0.5 -4.0\n",
      "> x %% c(5,4,-1)\n",
      "[1] 1 2 0"
     ]
    },
    {
     "cell_type": "code",
     "collapsed": false,
     "input": [
      "x=Series([1,2,4])\n",
      "print(x*Series([5,0,-1]))\n",
      "print(x/Series([5,4,-1]))\n",
      "print(x%Series([5,4,-1]))"
     ],
     "language": "python",
     "metadata": {},
     "outputs": [
      {
       "output_type": "stream",
       "stream": "stdout",
       "text": [
        "0    5\n",
        "1    0\n",
        "2   -4\n",
        "dtype: int64\n",
        "0    0.2\n",
        "1    0.5\n",
        "2   -4.0\n",
        "dtype: float64\n",
        "0    1\n",
        "1    2\n",
        "2    0\n",
        "dtype: int64\n"
       ]
      }
     ],
     "prompt_number": 67
    },
    {
     "cell_type": "raw",
     "metadata": {},
     "source": [
      "> y <- c(1.2,3.9,0.4,0.12)\n",
      "> y[c(1,3)]  # extract elements 1 and 3 of y\n",
      "[1] 1.2 0.4\n",
      "> y[2:3]\n",
      "[1] 3.9 0.4\n",
      "> v <- 3:4\n",
      "> y[v]\n",
      "[1] 0.40 0.12"
     ]
    },
    {
     "cell_type": "code",
     "collapsed": false,
     "input": [
      "obj = Series([1.2,3.9,0.4,0.12])\n",
      "print(obj[[0,2]])\n",
      "print(obj[1:3])\n",
      "print(obj[np.arange(2,4)])"
     ],
     "language": "python",
     "metadata": {},
     "outputs": [
      {
       "output_type": "stream",
       "stream": "stdout",
       "text": [
        "0    1.2\n",
        "2    0.4\n",
        "dtype: float64\n",
        "1    3.9\n",
        "2    0.4\n",
        "dtype: float64\n",
        "2    0.40\n",
        "3    0.12\n",
        "dtype: float64\n"
       ]
      }
     ],
     "prompt_number": 68
    },
    {
     "cell_type": "raw",
     "metadata": {},
     "source": [
      "Note that duplicates are allowed.\n",
      "> x <- c(4,2,17,5) \n",
      "> y <- x[c(1,1,3)] \n",
      ">y\n",
      "[1] 4 4 17"
     ]
    },
    {
     "cell_type": "code",
     "collapsed": false,
     "input": [
      "x=Series([4,2,17,5])\n",
      "y=x[[0,0,2]]\n",
      "y"
     ],
     "language": "python",
     "metadata": {},
     "outputs": [
      {
       "metadata": {},
       "output_type": "pyout",
       "prompt_number": 72,
       "text": [
        "0     4\n",
        "0     4\n",
        "2    17\n",
        "dtype: int64"
       ]
      }
     ],
     "prompt_number": 72
    },
    {
     "cell_type": "raw",
     "metadata": {},
     "source": [
      "> 5:8\n",
      "[1] 5 6 7 8\n",
      "> 5:1\n",
      "[1] 5 4 3 2 1"
     ]
    },
    {
     "cell_type": "code",
     "collapsed": false,
     "input": [
      "range(5,9)"
     ],
     "language": "python",
     "metadata": {},
     "outputs": [
      {
       "metadata": {},
       "output_type": "pyout",
       "prompt_number": 78,
       "text": [
        "[5, 6, 7, 8]"
       ]
      }
     ],
     "prompt_number": 78
    },
    {
     "cell_type": "code",
     "collapsed": false,
     "input": [
      "range(5,0,-1)"
     ],
     "language": "python",
     "metadata": {},
     "outputs": [
      {
       "metadata": {},
       "output_type": "pyout",
       "prompt_number": 79,
       "text": [
        "[5, 4, 3, 2, 1]"
       ]
      }
     ],
     "prompt_number": 79
    },
    {
     "cell_type": "raw",
     "metadata": {},
     "source": [
      "> seq(from=12,to=30,by=3\n",
      "[1] 12 15 18 21 24 27 30\n",
      "seq(from=1.1,to=2,length=10)\n",
      "[1] 1.1 1.2 1.3 1.4 1.5 1.6 1.7 1.8 1.9 2.0"
     ]
    },
    {
     "cell_type": "code",
     "collapsed": false,
     "input": [
      "range(12,31,3)"
     ],
     "language": "python",
     "metadata": {},
     "outputs": [
      {
       "metadata": {},
       "output_type": "pyout",
       "prompt_number": 80,
       "text": [
        "[12, 15, 18, 21, 24, 27, 30]"
       ]
      }
     ],
     "prompt_number": 80
    },
    {
     "cell_type": "raw",
     "metadata": {},
     "source": [
      "seq(from=1.1,to=2,length=10)\n",
      "[1] 1.1 1.2 1.3 1.4 1.5 1.6 1.7 1.8 1.9 2.0"
     ]
    },
    {
     "cell_type": "code",
     "collapsed": false,
     "input": [
      "np.linspace(1.1,2.0,10)"
     ],
     "language": "python",
     "metadata": {},
     "outputs": [
      {
       "metadata": {},
       "output_type": "pyout",
       "prompt_number": 101,
       "text": [
        "array([ 1.1,  1.2,  1.3,  1.4,  1.5,  1.6,  1.7,  1.8,  1.9,  2. ])"
       ]
      }
     ],
     "prompt_number": 101
    },
    {
     "cell_type": "code",
     "collapsed": false,
     "input": [
      "try:\n",
      "    c = MongoClient()\n",
      "    c.test_database\n",
      "    print \"Connected successfully\" \n",
      "    print(c)\n",
      "except ConnectionFailure, e:\n",
      "    sys.stderr.write(\"Could not connect to MongoDB: %s\" % e)\n",
      "    sys.exit(1)\n",
      "    "
     ],
     "language": "python",
     "metadata": {},
     "outputs": [
      {
       "output_type": "stream",
       "stream": "stdout",
       "text": [
        "Connected successfully\n",
        "MongoClient('localhost', 27017)\n"
       ]
      }
     ],
     "prompt_number": 15
    },
    {
     "cell_type": "code",
     "collapsed": false,
     "input": [
      "# Get a Database handle to a database named \"book\" \n",
      "book = c[\"book\"]\n"
     ],
     "language": "python",
     "metadata": {},
     "outputs": [
      {
       "metadata": {},
       "output_type": "pyout",
       "prompt_number": 19,
       "text": [
        "Database(MongoClient('localhost', 27017), u'book')"
       ]
      }
     ],
     "prompt_number": 19
    },
    {
     "cell_type": "code",
     "collapsed": false,
     "input": [],
     "language": "python",
     "metadata": {},
     "outputs": []
    }
   ],
   "metadata": {}
  }
 ]
}